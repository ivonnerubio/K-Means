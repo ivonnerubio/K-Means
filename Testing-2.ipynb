{
  "nbformat": 4,
  "nbformat_minor": 0,
  "metadata": {
    "colab": {
      "provenance": []
    },
    "kernelspec": {
      "name": "python3",
      "display_name": "Python 3"
    },
    "language_info": {
      "name": "python"
    }
  },
  "cells": [
    {
      "cell_type": "code",
      "execution_count": 352,
      "metadata": {
        "id": "a0cmau3WAEVF"
      },
      "outputs": [],
      "source": [
        "import numpy as np\n",
        "import pandas as pd\n",
        "from sklearn.datasets import make_blobs\n",
        "import matplotlib.pyplot as plt\n",
        "import random as random"
      ]
    },
    {
      "cell_type": "code",
      "source": [
        "def euclidean(point, data):\n",
        "    return np.sqrt(np.sum((point - data)**2))"
      ],
      "metadata": {
        "id": "T0qpReYV-tad"
      },
      "execution_count": 353,
      "outputs": []
    },
    {
      "cell_type": "code",
      "source": [
        "class kMeans:\n",
        "  def __init__(self, n_samples,n_centroids):\n",
        "    self.n_samples = n_samples\n",
        "    self.n_centroids = n_centroids\n",
        "\n",
        "  def plot(self,X):\n",
        "    plot = plt.scatter(X[:,0],X[:,1])\n",
        "    return plot\n",
        "\n",
        "  def defineInitialCentroids(self):\n",
        "    initial_centroids = np.random.randint(0,self.n_samples,self.n_centroids)\n",
        "    return initial_centroids\n",
        "\n",
        "  def plot_centroids(self,X,centroids):\n",
        "    centroidPlot = plt.scatter(X[:,0],X[:,1])\n",
        "    for i in range(len(centroids)):\n",
        "      index = centroids[i]\n",
        "      plt.plot(X[index,0], X[index,1], marker='X',color='red')\n",
        "    plt.show()\n",
        "\n",
        "\n",
        "  def assign_to_centroid(self, X, centroids):\n",
        "    collection_points_per_cluster = [[] for _ in range(self.n_centroids)]\n",
        "    assign_centroid = np.zeros(self.n_samples)\n",
        "    # print(assign_centroid)\n",
        "    j_hist = np.zeros(shape=(self.n_samples,self.n_centroids))\n",
        "    # Assign to centroid\n",
        "    for i in range(self.n_samples):\n",
        "      data = np.array((X[i,0], X[i,1]))\n",
        "      for j in range(self.n_centroids):\n",
        "        j_centroid = centroids[j]\n",
        "        point = np.array((X[j_centroid,0], X[j_centroid,1]))\n",
        "        dist = euclidean(data,point)\n",
        "        j_hist[i,j] = dist\n",
        "      assign_centroid[i] = j_hist[i].argmin()\n",
        "      collection_points_per_cluster[j_hist[i].argmin()].append(data)\n",
        "\n",
        "    return assign_centroid,j_hist, collection_points_per_cluster\n",
        "\n",
        "  def plotPointsWithCentroid(self, X, centroids, assign_centroid,j_hist,collection_points_per_cluster):\n",
        "    collection_points_per_cluster = np.array([np.array(sublist) for sublist in collection_points_per_cluster], dtype=object)\n",
        "    plot = plt\n",
        "    for i in range(self.n_centroids):\n",
        "      index = centroids[i]\n",
        "      plot.plot(X[index,0], X[index,1], marker='X',color='red')\n",
        "\n",
        "    for i in range(self.n_samples):\n",
        "      x = X[i,0]\n",
        "      y = X[i,1]\n",
        "      if(assign_centroid[i] == 0):\n",
        "        plot.scatter(x,y, color='black', label='0')\n",
        "      elif(assign_centroid[i] == 1):\n",
        "        plot.scatter(x,y, color='yellow', label='1')\n",
        "      elif(assign_centroid[i] == 2):\n",
        "        plot.scatter(x,y, color='blue', label='2')\n",
        "\n",
        "    return plot\n",
        "\n",
        "  def find_cluster_mean(self,X,collection_points_per_cluster):\n",
        "    cluster_means = np.zeros(shape=(self.n_centroids, 2))\n",
        "\n",
        "    for i in range(self.n_centroids):\n",
        "      x_sum = 0\n",
        "      y_sum = 0\n",
        "      n = 0\n",
        "      points = collection_points_per_cluster[i]\n",
        "      for j in range(len(points)):\n",
        "        x_y = collection_points_per_cluster[i][j]\n",
        "        x_sum += x_y[0]\n",
        "        y_sum += x_y[1]\n",
        "        n += 1\n",
        "      x_mean = x_sum / n\n",
        "      y_mean = y_sum / n\n",
        "      cluster_means[i,0] = x_mean\n",
        "      cluster_means[i,1] = y_mean\n",
        "    return cluster_means\n",
        "\n",
        "\n",
        "  def plot_cluster_mean(self,X,cluster_mean):\n",
        "    plot = plt\n",
        "    plot.scatter(cluster_mean[:,0], cluster_mean[:,1], marker='x', color='red')\n",
        "    plot.scatter(X[:,0], X[:,1])\n",
        "    return plot\n",
        "\n",
        "\n",
        "  def find_closets_centroid(self,X):\n",
        "    euclidean_hist = np.zeros(shape=(3,self.n_samples))\n",
        "    new_centroids = np.zeros(shape=(self.n_centroids,2))\n",
        "    new_centroid_index = np.zeros(3)\n",
        "    for i in range(len(cluster_mean)):\n",
        "      point = cluster_mean[i]\n",
        "      for j in range(self.n_samples):\n",
        "        data = np.array((X[j,0],X[j,1]))\n",
        "        euclidean_hist[i,j] = euclidean(data,point)\n",
        "      new_index = euclidean_hist[i].argmin()\n",
        "      new_centroid_index[i] = new_index\n",
        "      new_centroid_index = new_centroid_index.astype(int)\n",
        "\n",
        "      new_centroids[i] = np.array((X[new_index,0], X[new_index,1]))\n",
        "    return new_centroids,new_centroid_index\n",
        "\n",
        "\n",
        "  def find_closets_centroid(self,X, cluster_mean):\n",
        "    euclidean_hist = np.zeros(shape=(self.n_centroids,self.n_samples))\n",
        "    new_centroids = np.zeros(shape=(self.n_centroids,2))\n",
        "    new_centroid_index = np.zeros(3)\n",
        "    for i in range(len(cluster_mean)):\n",
        "      point = cluster_mean[i]\n",
        "      for j in range(self.n_samples):\n",
        "        data = np.array((X[j,0],X[j,1]))\n",
        "        euclidean_hist[i,j] = euclidean(data,point)\n",
        "      new_index = euclidean_hist[i].argmin()\n",
        "      new_centroid_index[i] = new_index\n",
        "      new_centroid_index = new_centroid_index.astype(int)\n",
        "      new_centroids[i] = np.array((X[new_index,0], X[new_index,1]))\n",
        "    return new_centroids,new_centroid_index"
      ],
      "metadata": {
        "id": "1NVOz7GTAIX2"
      },
      "execution_count": 354,
      "outputs": []
    },
    {
      "cell_type": "code",
      "source": [
        "test1 = kMeans(25,3)"
      ],
      "metadata": {
        "id": "xQW9-H3iv2nx"
      },
      "execution_count": 334,
      "outputs": []
    },
    {
      "cell_type": "code",
      "source": [
        "test1.plot(X)"
      ],
      "metadata": {
        "id": "WgSuwdpMv_GF"
      },
      "execution_count": null,
      "outputs": []
    },
    {
      "cell_type": "code",
      "source": [
        "intial_centroids = test1.defineInitialCentroids()\n",
        "intial_centroids"
      ],
      "metadata": {
        "colab": {
          "base_uri": "https://localhost:8080/"
        },
        "id": "kTglYom_xjd0",
        "outputId": "33f3e2f2-e9e5-49ab-acfc-706b55c3c96e"
      },
      "execution_count": 336,
      "outputs": [
        {
          "output_type": "execute_result",
          "data": {
            "text/plain": [
              "array([3, 6, 1])"
            ]
          },
          "metadata": {},
          "execution_count": 336
        }
      ]
    },
    {
      "cell_type": "code",
      "source": [
        "test1.plot_centroids(X,intial_centroids)"
      ],
      "metadata": {
        "colab": {
          "base_uri": "https://localhost:8080/",
          "height": 429
        },
        "id": "a_RBCdfOyG3A",
        "outputId": "d3025f66-2508-4669-ab59-1e9d306abd22"
      },
      "execution_count": 337,
      "outputs": [
        {
          "output_type": "display_data",
          "data": {
            "text/plain": [
              "<Figure size 640x480 with 1 Axes>"
            ],
            "image/png": "[encoded data removed]"
          },
          "metadata": {}
        }
      ]
    },
    {
      "cell_type": "code",
      "source": [
        "assign_centroid,j_hist,collection_points_per_cluster  = test1.assign_to_centroid(X, intial_centroids)\n",
        "\n",
        "test1.plotPointsWithCentroid(X,intial_centroids, assign_centroid,j_hist,collection_points_per_cluster)"
      ],
      "metadata": {
        "id": "NucyALlP0X9l",
        "colab": {
          "base_uri": "https://localhost:8080/",
          "height": 350
        },
        "outputId": "45f301af-72e2-4557-c2b6-89dbb62ddbf9"
      },
      "execution_count": 338,
      "outputs": [
        {
          "output_type": "error",
          "ename": "TypeError",
          "evalue": "euclidean() missing 1 required positional argument: 'data'",
          "traceback": [
            "\u001b[0;31m---------------------------------------------------------------------------\u001b[0m",
            "\u001b[0;31mTypeError\u001b[0m                                 Traceback (most recent call last)",
            "\u001b[0;32m<ipython-input-338-d0d0a70c81d8>\u001b[0m in \u001b[0;36m<cell line: 1>\u001b[0;34m()\u001b[0m\n\u001b[0;32m----> 1\u001b[0;31m \u001b[0massign_centroid\u001b[0m\u001b[0;34m,\u001b[0m\u001b[0mj_hist\u001b[0m\u001b[0;34m,\u001b[0m\u001b[0mcollection_points_per_cluster\u001b[0m  \u001b[0;34m=\u001b[0m \u001b[0mtest1\u001b[0m\u001b[0;34m.\u001b[0m\u001b[0massign_to_centroid\u001b[0m\u001b[0;34m(\u001b[0m\u001b[0mX\u001b[0m\u001b[0;34m,\u001b[0m \u001b[0mintial_centroids\u001b[0m\u001b[0;34m)\u001b[0m\u001b[0;34m\u001b[0m\u001b[0;34m\u001b[0m\u001b[0m\n\u001b[0m\u001b[1;32m      2\u001b[0m \u001b[0;34m\u001b[0m\u001b[0m\n\u001b[1;32m      3\u001b[0m \u001b[0mtest1\u001b[0m\u001b[0;34m.\u001b[0m\u001b[0mplotPointsWithCentroid\u001b[0m\u001b[0;34m(\u001b[0m\u001b[0mX\u001b[0m\u001b[0;34m,\u001b[0m\u001b[0mintial_centroids\u001b[0m\u001b[0;34m,\u001b[0m \u001b[0massign_centroid\u001b[0m\u001b[0;34m,\u001b[0m\u001b[0mj_hist\u001b[0m\u001b[0;34m,\u001b[0m\u001b[0mcollection_points_per_cluster\u001b[0m\u001b[0;34m)\u001b[0m\u001b[0;34m\u001b[0m\u001b[0;34m\u001b[0m\u001b[0m\n",
            "\u001b[0;32m<ipython-input-333-b3502ed5119d>\u001b[0m in \u001b[0;36massign_to_centroid\u001b[0;34m(self, X, centroids)\u001b[0m\n\u001b[1;32m     32\u001b[0m         \u001b[0mj_centroid\u001b[0m \u001b[0;34m=\u001b[0m \u001b[0mcentroids\u001b[0m\u001b[0;34m[\u001b[0m\u001b[0mj\u001b[0m\u001b[0;34m]\u001b[0m\u001b[0;34m\u001b[0m\u001b[0;34m\u001b[0m\u001b[0m\n\u001b[1;32m     33\u001b[0m         \u001b[0mpoint\u001b[0m \u001b[0;34m=\u001b[0m \u001b[0mnp\u001b[0m\u001b[0;34m.\u001b[0m\u001b[0marray\u001b[0m\u001b[0;34m(\u001b[0m\u001b[0;34m(\u001b[0m\u001b[0mX\u001b[0m\u001b[0;34m[\u001b[0m\u001b[0mj_centroid\u001b[0m\u001b[0;34m,\u001b[0m\u001b[0;36m0\u001b[0m\u001b[0;34m]\u001b[0m\u001b[0;34m,\u001b[0m \u001b[0mX\u001b[0m\u001b[0;34m[\u001b[0m\u001b[0mj_centroid\u001b[0m\u001b[0;34m,\u001b[0m\u001b[0;36m1\u001b[0m\u001b[0;34m]\u001b[0m\u001b[0;34m)\u001b[0m\u001b[0;34m)\u001b[0m\u001b[0;34m\u001b[0m\u001b[0;34m\u001b[0m\u001b[0m\n\u001b[0;32m---> 34\u001b[0;31m         \u001b[0mdist\u001b[0m \u001b[0;34m=\u001b[0m \u001b[0meuclidean\u001b[0m\u001b[0;34m(\u001b[0m\u001b[0mdata\u001b[0m\u001b[0;34m,\u001b[0m\u001b[0mpoint\u001b[0m\u001b[0;34m)\u001b[0m\u001b[0;34m\u001b[0m\u001b[0;34m\u001b[0m\u001b[0m\n\u001b[0m\u001b[1;32m     35\u001b[0m         \u001b[0mj_hist\u001b[0m\u001b[0;34m[\u001b[0m\u001b[0mi\u001b[0m\u001b[0;34m,\u001b[0m\u001b[0mj\u001b[0m\u001b[0;34m]\u001b[0m \u001b[0;34m=\u001b[0m \u001b[0mdist\u001b[0m\u001b[0;34m\u001b[0m\u001b[0;34m\u001b[0m\u001b[0m\n\u001b[1;32m     36\u001b[0m       \u001b[0massign_centroid\u001b[0m\u001b[0;34m[\u001b[0m\u001b[0mi\u001b[0m\u001b[0;34m]\u001b[0m \u001b[0;34m=\u001b[0m \u001b[0mj_hist\u001b[0m\u001b[0;34m[\u001b[0m\u001b[0mi\u001b[0m\u001b[0;34m]\u001b[0m\u001b[0;34m.\u001b[0m\u001b[0margmin\u001b[0m\u001b[0;34m(\u001b[0m\u001b[0;34m)\u001b[0m\u001b[0;34m\u001b[0m\u001b[0;34m\u001b[0m\u001b[0m\n",
            "\u001b[0;31mTypeError\u001b[0m: euclidean() missing 1 required positional argument: 'data'"
          ]
        }
      ]
    },
    {
      "cell_type": "code",
      "source": [
        "cluster_mean = test1.find_cluster_mean(X,collection_points_per_cluster)"
      ],
      "metadata": {
        "id": "TSKTWqcXGXuw"
      },
      "execution_count": null,
      "outputs": []
    },
    {
      "cell_type": "code",
      "source": [
        "test1.plot_cluster_mean(X,cluster_mean)"
      ],
      "metadata": {
        "colab": {
          "base_uri": "https://localhost:8080/",
          "height": 445
        },
        "id": "LCGF9BzvPVc9",
        "outputId": "ece865e6-038d-4acd-98da-6680a0a54e02"
      },
      "execution_count": 339,
      "outputs": [
        {
          "output_type": "execute_result",
          "data": {
            "text/plain": [
              "<module 'matplotlib.pyplot' from '/usr/local/lib/python3.10/dist-packages/matplotlib/pyplot.py'>"
            ]
          },
          "metadata": {},
          "execution_count": 339
        },
        {
          "output_type": "display_data",
          "data": {
            "text/plain": [
              "<Figure size 640x480 with 1 Axes>"
            ],
            "image/png": "[encoded data removed]"
          },
          "metadata": {}
        }
      ]
    },
    {
      "cell_type": "code",
      "source": [
        "new_centroids, new_centroid_index  = test1.find_closets_centroid(X, cluster_mean)"
      ],
      "metadata": {
        "colab": {
          "base_uri": "https://localhost:8080/",
          "height": 284
        },
        "id": "BcjylappR7Bt",
        "outputId": "11111d63-2e78-4ca0-f6c2-fdf5be1f1830"
      },
      "execution_count": 340,
      "outputs": [
        {
          "output_type": "error",
          "ename": "AttributeError",
          "evalue": "'kMeans' object has no attribute 'euclidean'",
          "traceback": [
            "\u001b[0;31m---------------------------------------------------------------------------\u001b[0m",
            "\u001b[0;31mAttributeError\u001b[0m                            Traceback (most recent call last)",
            "\u001b[0;32m<ipython-input-340-d42d26fc3afc>\u001b[0m in \u001b[0;36m<cell line: 1>\u001b[0;34m()\u001b[0m\n\u001b[0;32m----> 1\u001b[0;31m \u001b[0mnew_centroids\u001b[0m\u001b[0;34m,\u001b[0m \u001b[0mnew_centroid_index\u001b[0m  \u001b[0;34m=\u001b[0m \u001b[0mtest1\u001b[0m\u001b[0;34m.\u001b[0m\u001b[0mfind_closets_centroid\u001b[0m\u001b[0;34m(\u001b[0m\u001b[0mX\u001b[0m\u001b[0;34m,\u001b[0m \u001b[0mcluster_mean\u001b[0m\u001b[0;34m)\u001b[0m\u001b[0;34m\u001b[0m\u001b[0;34m\u001b[0m\u001b[0m\n\u001b[0m",
            "\u001b[0;32m<ipython-input-333-b3502ed5119d>\u001b[0m in \u001b[0;36mfind_closets_centroid\u001b[0;34m(self, X, cluster_mean)\u001b[0m\n\u001b[1;32m    110\u001b[0m       \u001b[0;32mfor\u001b[0m \u001b[0mj\u001b[0m \u001b[0;32min\u001b[0m \u001b[0mrange\u001b[0m\u001b[0;34m(\u001b[0m\u001b[0mself\u001b[0m\u001b[0;34m.\u001b[0m\u001b[0mn_samples\u001b[0m\u001b[0;34m)\u001b[0m\u001b[0;34m:\u001b[0m\u001b[0;34m\u001b[0m\u001b[0;34m\u001b[0m\u001b[0m\n\u001b[1;32m    111\u001b[0m         \u001b[0mdata\u001b[0m \u001b[0;34m=\u001b[0m \u001b[0mnp\u001b[0m\u001b[0;34m.\u001b[0m\u001b[0marray\u001b[0m\u001b[0;34m(\u001b[0m\u001b[0;34m(\u001b[0m\u001b[0mX\u001b[0m\u001b[0;34m[\u001b[0m\u001b[0mj\u001b[0m\u001b[0;34m,\u001b[0m\u001b[0;36m0\u001b[0m\u001b[0;34m]\u001b[0m\u001b[0;34m,\u001b[0m\u001b[0mX\u001b[0m\u001b[0;34m[\u001b[0m\u001b[0mj\u001b[0m\u001b[0;34m,\u001b[0m\u001b[0;36m1\u001b[0m\u001b[0;34m]\u001b[0m\u001b[0;34m)\u001b[0m\u001b[0;34m)\u001b[0m\u001b[0;34m\u001b[0m\u001b[0;34m\u001b[0m\u001b[0m\n\u001b[0;32m--> 112\u001b[0;31m         \u001b[0meuclidean_hist\u001b[0m\u001b[0;34m[\u001b[0m\u001b[0mi\u001b[0m\u001b[0;34m,\u001b[0m\u001b[0mj\u001b[0m\u001b[0;34m]\u001b[0m \u001b[0;34m=\u001b[0m \u001b[0mself\u001b[0m\u001b[0;34m.\u001b[0m\u001b[0meuclidean\u001b[0m\u001b[0;34m(\u001b[0m\u001b[0mdata\u001b[0m\u001b[0;34m,\u001b[0m\u001b[0mpoint\u001b[0m\u001b[0;34m)\u001b[0m\u001b[0;34m\u001b[0m\u001b[0;34m\u001b[0m\u001b[0m\n\u001b[0m\u001b[1;32m    113\u001b[0m       \u001b[0mnew_index\u001b[0m \u001b[0;34m=\u001b[0m \u001b[0meuclidean_hist\u001b[0m\u001b[0;34m[\u001b[0m\u001b[0mi\u001b[0m\u001b[0;34m]\u001b[0m\u001b[0;34m.\u001b[0m\u001b[0margmin\u001b[0m\u001b[0;34m(\u001b[0m\u001b[0;34m)\u001b[0m\u001b[0;34m\u001b[0m\u001b[0;34m\u001b[0m\u001b[0m\n\u001b[1;32m    114\u001b[0m       \u001b[0mnew_centroid_index\u001b[0m\u001b[0;34m[\u001b[0m\u001b[0mi\u001b[0m\u001b[0;34m]\u001b[0m \u001b[0;34m=\u001b[0m \u001b[0mnew_index\u001b[0m\u001b[0;34m\u001b[0m\u001b[0;34m\u001b[0m\u001b[0m\n",
            "\u001b[0;31mAttributeError\u001b[0m: 'kMeans' object has no attribute 'euclidean'"
          ]
        }
      ]
    },
    {
      "cell_type": "code",
      "source": [
        "assign_centroid,j_hist, collection_points_per_cluster = test1.assign_to_centroid(X,new_centroid_index)"
      ],
      "metadata": {
        "colab": {
          "base_uri": "https://localhost:8080/",
          "height": 301
        },
        "id": "r5t0JtaNSYUO",
        "outputId": "05ce03b6-c0c2-4ead-9e16-d8f413db61c4"
      },
      "execution_count": 341,
      "outputs": [
        {
          "output_type": "error",
          "ename": "TypeError",
          "evalue": "euclidean() missing 1 required positional argument: 'data'",
          "traceback": [
            "\u001b[0;31m---------------------------------------------------------------------------\u001b[0m",
            "\u001b[0;31mTypeError\u001b[0m                                 Traceback (most recent call last)",
            "\u001b[0;32m<ipython-input-341-0a050e1b7eb0>\u001b[0m in \u001b[0;36m<cell line: 1>\u001b[0;34m()\u001b[0m\n\u001b[0;32m----> 1\u001b[0;31m \u001b[0massign_centroid\u001b[0m\u001b[0;34m,\u001b[0m\u001b[0mj_hist\u001b[0m\u001b[0;34m,\u001b[0m \u001b[0mcollection_points_per_cluster\u001b[0m \u001b[0;34m=\u001b[0m \u001b[0mtest1\u001b[0m\u001b[0;34m.\u001b[0m\u001b[0massign_to_centroid\u001b[0m\u001b[0;34m(\u001b[0m\u001b[0mX\u001b[0m\u001b[0;34m,\u001b[0m\u001b[0mnew_centroid_index\u001b[0m\u001b[0;34m)\u001b[0m\u001b[0;34m\u001b[0m\u001b[0;34m\u001b[0m\u001b[0m\n\u001b[0m",
            "\u001b[0;32m<ipython-input-333-b3502ed5119d>\u001b[0m in \u001b[0;36massign_to_centroid\u001b[0;34m(self, X, centroids)\u001b[0m\n\u001b[1;32m     32\u001b[0m         \u001b[0mj_centroid\u001b[0m \u001b[0;34m=\u001b[0m \u001b[0mcentroids\u001b[0m\u001b[0;34m[\u001b[0m\u001b[0mj\u001b[0m\u001b[0;34m]\u001b[0m\u001b[0;34m\u001b[0m\u001b[0;34m\u001b[0m\u001b[0m\n\u001b[1;32m     33\u001b[0m         \u001b[0mpoint\u001b[0m \u001b[0;34m=\u001b[0m \u001b[0mnp\u001b[0m\u001b[0;34m.\u001b[0m\u001b[0marray\u001b[0m\u001b[0;34m(\u001b[0m\u001b[0;34m(\u001b[0m\u001b[0mX\u001b[0m\u001b[0;34m[\u001b[0m\u001b[0mj_centroid\u001b[0m\u001b[0;34m,\u001b[0m\u001b[0;36m0\u001b[0m\u001b[0;34m]\u001b[0m\u001b[0;34m,\u001b[0m \u001b[0mX\u001b[0m\u001b[0;34m[\u001b[0m\u001b[0mj_centroid\u001b[0m\u001b[0;34m,\u001b[0m\u001b[0;36m1\u001b[0m\u001b[0;34m]\u001b[0m\u001b[0;34m)\u001b[0m\u001b[0;34m)\u001b[0m\u001b[0;34m\u001b[0m\u001b[0;34m\u001b[0m\u001b[0m\n\u001b[0;32m---> 34\u001b[0;31m         \u001b[0mdist\u001b[0m \u001b[0;34m=\u001b[0m \u001b[0meuclidean\u001b[0m\u001b[0;34m(\u001b[0m\u001b[0mdata\u001b[0m\u001b[0;34m,\u001b[0m\u001b[0mpoint\u001b[0m\u001b[0;34m)\u001b[0m\u001b[0;34m\u001b[0m\u001b[0;34m\u001b[0m\u001b[0m\n\u001b[0m\u001b[1;32m     35\u001b[0m         \u001b[0mj_hist\u001b[0m\u001b[0;34m[\u001b[0m\u001b[0mi\u001b[0m\u001b[0;34m,\u001b[0m\u001b[0mj\u001b[0m\u001b[0;34m]\u001b[0m \u001b[0;34m=\u001b[0m \u001b[0mdist\u001b[0m\u001b[0;34m\u001b[0m\u001b[0;34m\u001b[0m\u001b[0m\n\u001b[1;32m     36\u001b[0m       \u001b[0massign_centroid\u001b[0m\u001b[0;34m[\u001b[0m\u001b[0mi\u001b[0m\u001b[0;34m]\u001b[0m \u001b[0;34m=\u001b[0m \u001b[0mj_hist\u001b[0m\u001b[0;34m[\u001b[0m\u001b[0mi\u001b[0m\u001b[0;34m]\u001b[0m\u001b[0;34m.\u001b[0m\u001b[0margmin\u001b[0m\u001b[0;34m(\u001b[0m\u001b[0;34m)\u001b[0m\u001b[0;34m\u001b[0m\u001b[0;34m\u001b[0m\u001b[0m\n",
            "\u001b[0;31mTypeError\u001b[0m: euclidean() missing 1 required positional argument: 'data'"
          ]
        }
      ]
    },
    {
      "cell_type": "code",
      "source": [
        "test1.plotPointsWithCentroid(X,new_centroid_index, assign_centroid,j_hist,collection_points_per_cluster)"
      ],
      "metadata": {
        "colab": {
          "base_uri": "https://localhost:8080/",
          "height": 445
        },
        "id": "zjHVIizJfd8D",
        "outputId": "293da189-a47f-4218-8b60-d3be650d13fc"
      },
      "execution_count": 342,
      "outputs": [
        {
          "output_type": "execute_result",
          "data": {
            "text/plain": [
              "<module 'matplotlib.pyplot' from '/usr/local/lib/python3.10/dist-packages/matplotlib/pyplot.py'>"
            ]
          },
          "metadata": {},
          "execution_count": 342
        },
        {
          "output_type": "display_data",
          "data": {
            "text/plain": [
              "<Figure size 640x480 with 1 Axes>"
            ],
            "image/png": "[encoded data removed]"
          },
          "metadata": {}
        }
      ]
    },
    {
      "cell_type": "code",
      "source": [],
      "metadata": {
        "id": "yrjbRLDSB8Yv"
      },
      "execution_count": null,
      "outputs": []
    },
    {
      "cell_type": "code",
      "source": [],
      "metadata": {
        "id": "LbC7R5gzB8Wp"
      },
      "execution_count": null,
      "outputs": []
    },
    {
      "cell_type": "code",
      "source": [],
      "metadata": {
        "id": "XlHImxFJB8UC"
      },
      "execution_count": null,
      "outputs": []
    },
    {
      "cell_type": "code",
      "source": [
        "class kMeans:\n",
        "  def __init__(self, n_clusters,max_iter=300):\n",
        "    self.n_clusters = n_clusters\n",
        "    self.max_iter = max_iter\n",
        "\n",
        "  def fit(self,X_train):\n",
        "    # Initialize the centroids by randomly choosing the points\n",
        "    self.centroids = np.random.randint(0,len(X_train),self.n_clusters)\n",
        "\n",
        "    # Use Eucledian distance to then train the data\n",
        "    collection_points_per_cluster = [[] for _ in range(self.n_clusters)]\n",
        "    assign_centroid = np.zeros(len(X_train))\n",
        "    j_hist = np.zeros(shape=(len(X_train),self.n_clusters))\n",
        "    # Assign to centroid\n",
        "    for i in range(len(X_train)):\n",
        "      data = np.array((X_train[i,0], X_train[i,1]))\n",
        "      for j in range(self.n_clusters):\n",
        "        j_centroid = self.centroids[j]\n",
        "        point = np.array((X_train[j_centroid,0], X_train[j_centroid,1]))\n",
        "        dist = euclidean(data,point)\n",
        "        j_hist[i,j] = dist\n",
        "      assign_centroid[i] = j_hist[i].argmin()\n",
        "      collection_points_per_cluster[j_hist[i].argmin()].append(data)\n",
        "\n",
        "    return assign_centroid,j_hist, collection_points_per_cluster\n",
        "\n",
        "  def plotPointsWithCentroid(self, X, centroids, assign_centroid,j_hist,collection_points_per_cluster):\n",
        "    collection_points_per_cluster = np.array([np.array(sublist) for sublist in collection_points_per_cluster], dtype=object)\n",
        "    plot = plt\n",
        "    for i in range(self.n_centroids):\n",
        "      index = centroids[i]\n",
        "      plot.plot(X[index,0], X[index,1], marker='X',color='red')\n",
        "\n",
        "    for i in range(self.n_samples):\n",
        "      x = X[i,0]\n",
        "      y = X[i,1]\n",
        "      if(assign_centroid[i] == 0):\n",
        "        plot.scatter(x,y, color='black', label='0')\n",
        "      elif(assign_centroid[i] == 1):\n",
        "        plot.scatter(x,y, color='yellow', label='1')\n",
        "      elif(assign_centroid[i] == 2):\n",
        "        plot.scatter(x,y, color='blue', label='2')\n",
        "\n",
        "    return plot\n",
        "\n",
        "  def find_cluster_mean(self,X,collection_points_per_cluster):\n",
        "    cluster_means = np.zeros(shape=(self.n_centroids, 2))\n",
        "\n",
        "    for i in range(self.n_centroids):\n",
        "      x_sum = 0\n",
        "      y_sum = 0\n",
        "      n = 0\n",
        "      points = collection_points_per_cluster[i]\n",
        "      for j in range(len(points)):\n",
        "        x_y = collection_points_per_cluster[i][j]\n",
        "        x_sum += x_y[0]\n",
        "        y_sum += x_y[1]\n",
        "        n += 1\n",
        "      x_mean = x_sum / n\n",
        "      y_mean = y_sum / n\n",
        "      cluster_means[i,0] = x_mean\n",
        "      cluster_means[i,1] = y_mean\n",
        "    return cluster_means\n",
        "\n",
        "\n",
        "  def plot_cluster_mean(self,X,cluster_mean):\n",
        "    plot = plt\n",
        "    plot.scatter(cluster_mean[:,0], cluster_mean[:,1], marker='x', color='red')\n",
        "    plot.scatter(X[:,0], X[:,1])\n",
        "    return plot\n",
        "\n",
        "\n",
        "  def find_closets_centroid(self,X):\n",
        "    euclidean_hist = np.zeros(shape=(3,self.n_samples))\n",
        "    new_centroids = np.zeros(shape=(self.n_centroids,2))\n",
        "    new_centroid_index = np.zeros(3)\n",
        "    for i in range(len(cluster_mean)):\n",
        "      point = cluster_mean[i]\n",
        "      for j in range(self.n_samples):\n",
        "        data = np.array((X[j,0],X[j,1]))\n",
        "        euclidean_hist[i,j] = euclidean(data,point)\n",
        "      new_index = euclidean_hist[i].argmin()\n",
        "      new_centroid_index[i] = new_index\n",
        "      new_centroid_index = new_centroid_index.astype(int)\n",
        "\n",
        "      new_centroids[i] = np.array((X[new_index,0], X[new_index,1]))\n",
        "    return new_centroids,new_centroid_index\n",
        "\n",
        "\n",
        "  def find_closets_centroid(self,X, cluster_mean):\n",
        "    euclidean_hist = np.zeros(shape=(self.n_centroids,self.n_samples))\n",
        "    new_centroids = np.zeros(shape=(self.n_centroids,2))\n",
        "    new_centroid_index = np.zeros(3)\n",
        "    for i in range(len(cluster_mean)):\n",
        "      point = cluster_mean[i]\n",
        "      for j in range(self.n_samples):\n",
        "        data = np.array((X[j,0],X[j,1]))\n",
        "        euclidean_hist[i,j] = euclidean(data,point)\n",
        "      new_index = euclidean_hist[i].argmin()\n",
        "      new_centroid_index[i] = new_index\n",
        "      new_centroid_index = new_centroid_index.astype(int)\n",
        "      new_centroids[i] = np.array((X[new_index,0], X[new_index,1]))\n",
        "    return new_centroids,new_centroid_index\n",
        "\n",
        "\n",
        "  def plot(self,X):\n",
        "    plot = plt.scatter(X[:,0],X[:,1])\n",
        "    return plot\n",
        "\n",
        "\n",
        "  def plot_centroids(self,X,centroids):\n",
        "    centroidPlot = plt.scatter(X[:,0],X[:,1])\n",
        "    for i in range(len(centroids)):\n",
        "      index = centroids[i]\n",
        "      plt.plot(X[index,0], X[index,1], marker='X',color='red')\n",
        "    plt.show()\n"
      ],
      "metadata": {
        "id": "8CNm_ElhB8Ri"
      },
      "execution_count": 361,
      "outputs": []
    },
    {
      "cell_type": "code",
      "source": [
        "n_samples = 25\n",
        "n_centroids = 3\n",
        "X,y = make_blobs(n_samples = n_samples,n_features = 2,centers = n_centroids,random_state = 24)\n",
        "\n",
        "testLoop = kMeans(n_samples,n_centroids)\n",
        "\n",
        "#Find random centroids\n",
        "intial_centroids = testLoop.defineInitialCentroids()\n",
        "intial_centroids\n",
        "\n",
        "\n",
        "for i in range(100):\n",
        "  # Assign using the initial random centroids\n",
        "  assign_centroid,j_hist,collection_points_per_cluster  = testLoop.assign_to_centroid(X, intial_centroids)\n",
        "  cluster_mean = testLoop.find_cluster_mean(X,collection_points_per_cluster)\n",
        "  new_centroids, new_centroid_index  = testLoop.find_closets_centroid(X, cluster_mean)\n",
        "  assign_centroid,j_hist, collection_points_per_cluster = testLoop.assign_to_centroid(X,new_centroid_index)\n",
        "\n",
        "test1.plotPointsWithCentroid(X,new_centroid_index, assign_centroid,j_hist,collection_points_per_cluster)"
      ],
      "metadata": {
        "colab": {
          "base_uri": "https://localhost:8080/",
          "height": 445
        },
        "id": "XBTJGfPT5HLt",
        "outputId": "b6ef10c8-8f67-4d6d-e622-d2b76691b199"
      },
      "execution_count": 359,
      "outputs": [
        {
          "output_type": "execute_result",
          "data": {
            "text/plain": [
              "<module 'matplotlib.pyplot' from '/usr/local/lib/python3.10/dist-packages/matplotlib/pyplot.py'>"
            ]
          },
          "metadata": {},
          "execution_count": 359
        },
        {
          "output_type": "display_data",
          "data": {
            "text/plain": [
              "<Figure size 640x480 with 1 Axes>"
            ],
            "image/png": "[encoded data removed]"
          },
          "metadata": {}
        }
      ]
    },
    {
      "cell_type": "code",
      "source": [],
      "metadata": {
        "id": "2GnDyEUD6LLG"
      },
      "execution_count": 313,
      "outputs": []
    }
  ]
}