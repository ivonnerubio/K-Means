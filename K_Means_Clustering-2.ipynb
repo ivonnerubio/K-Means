{
  "nbformat": 4,
  "nbformat_minor": 0,
  "metadata": {
    "colab": {
      "provenance": []
    },
    "kernelspec": {
      "name": "python3",
      "display_name": "Python 3"
    },
    "language_info": {
      "name": "python"
    }
  },
  "cells": [
    {
      "cell_type": "code",
      "execution_count": 2,
      "metadata": {
        "id": "WlTKLmIplGwM"
      },
      "outputs": [],
      "source": [
        "import numpy as np\n",
        "import pandas as pd\n",
        "from sklearn.datasets import make_blobs\n",
        "import matplotlib.pyplot as plt\n",
        "import random as random"
      ]
    },
    {
      "cell_type": "markdown",
      "source": [
        "1. **Initialize**: Determine the number of clusters (K) you want to partition your data into. Randomly initialize K cluster centroids. These centroids can be randomly selected data points or placed at random locations within the feature space.\n",
        "\n",
        "2. **Assign Data Points to Clusters**: For each data point, calculate the distance to each centroid using a distance metric such as Euclidean distance. Assign each data point to the cluster whose centroid is closest to it.\n",
        "\n",
        "3. **Update Centroids**: After all data points have been assigned to clusters, calculate the mean of the data points in each cluster. This will be the new centroid for that cluster.\n",
        "\n",
        "4. **Repeat**: Repeat steps 2 and 3 until convergence criteria are met. Convergence can be defined by several conditions, such as no (or minimal) change in cluster assignments or centroids, a maximum number of iterations reached, or a predefined threshold for centroid movement.\n",
        "\n",
        "5. **Convergence Criteria**: Decide on a stopping criterion to end the iterative process. Common criteria include a maximum number of iterations, a minimum change in centroid positions, or when the cluster assignments no longer change.\n",
        "\n",
        "6. **Finalize Clusters**: Once the algorithm converges, the clusters are finalized. Each data point is assigned to one of the K clusters.\n",
        "\n",
        "7. **Evaluation (Optional)**: If ground truth labels are available, you can evaluate the quality of the clustering using metrics such as the Silhouette Score or the Davies–Bouldin Index. These metrics measure the compactness and separation of the clusters.\n",
        "\n",
        "8. **Parameter Tuning (Optional)**: Experiment with different initializations, distance metrics, and numbers of clusters to find the optimal clustering solution for your data.\n",
        "\n",
        "By following these steps, you can implement a basic K-means clustering algorithm from scratch. Remember that K-means is sensitive to initialization, and different initializations may lead to different final cluster assignments. Therefore, it's often a good practice to run the algorithm multiple times with different initializations and choose the solution with the lowest objective function value or the best clustering quality metric.\n"
      ],
      "metadata": {
        "id": "M9qS2OjPlUe4"
      }
    },
    {
      "cell_type": "code",
      "source": [
        "n_samples = 25\n",
        "n_centroids = 3\n",
        "X,y = make_blobs(n_samples = n_samples,n_features = 2,centers = n_centroids,random_state = 23)\n",
        "plt.scatter(X[:,0],X[:,1])\n",
        "plt.show()"
      ],
      "metadata": {
        "colab": {
          "base_uri": "https://localhost:8080/",
          "height": 429
        },
        "id": "0fmoStsXl9ia",
        "outputId": "41486173-e50d-4203-add2-cc8c4dbe17fc"
      },
      "execution_count": 165,
      "outputs": [
        {
          "output_type": "display_data",
          "data": {
            "text/plain": [
              "<Figure size 640x480 with 1 Axes>"
            ],
            "image/png": "[encoded data removed]"
          },
          "metadata": {}
        }
      ]
    },
    {
      "cell_type": "code",
      "source": [
        "print(X)"
      ],
      "metadata": {
        "colab": {
          "base_uri": "https://localhost:8080/"
        },
        "id": "DbTZttcHSQlI",
        "outputId": "7aa41ec7-b252-4d1f-a2b6-545388955deb"
      },
      "execution_count": 166,
      "outputs": [
        {
          "output_type": "stream",
          "name": "stdout",
          "text": [
            "[[ 5.17292843e+00 -3.08483491e+00]\n",
            " [ 6.72451517e+00 -3.89437214e+00]\n",
            " [-5.91070986e+00  2.09205542e+00]\n",
            " [-1.50131409e-03  9.60939224e+00]\n",
            " [ 6.68229197e-01  8.99959501e+00]\n",
            " [ 8.84119643e-01  9.75137075e+00]\n",
            " [ 6.03807103e+00 -2.38364839e+00]\n",
            " [-9.76189846e-01  1.07115104e+01]\n",
            " [ 2.80296487e+00 -4.20512263e+00]\n",
            " [-5.99993669e+00  3.17245314e+00]\n",
            " [-5.06695534e+00  3.85598017e+00]\n",
            " [ 1.44117155e-01  9.98462335e+00]\n",
            " [-5.15847007e+00  4.13606135e+00]\n",
            " [-5.70019028e+00  3.91458306e+00]\n",
            " [ 5.91539068e+00 -4.37462201e+00]\n",
            " [-1.49211009e+00  8.00048345e+00]\n",
            " [ 7.87694049e-01  1.00681289e+01]\n",
            " [ 5.55030149e+00 -5.30459265e+00]\n",
            " [ 4.76140718e+00 -5.03150139e+00]\n",
            " [-5.56567048e+00  4.66038660e+00]\n",
            " [-2.15904392e-02  7.80179239e+00]\n",
            " [-4.53820676e+00  3.63040697e+00]\n",
            " [-5.65041666e+00  3.67900413e+00]\n",
            " [-6.97492325e-01  7.92931020e+00]\n",
            " [ 5.48282883e+00 -5.57533789e+00]]\n"
          ]
        }
      ]
    },
    {
      "cell_type": "code",
      "source": [
        "random_centroids = np.random.sample(1)\n",
        "random_centroids"
      ],
      "metadata": {
        "colab": {
          "base_uri": "https://localhost:8080/"
        },
        "id": "ZF4r6d7fsUNA",
        "outputId": "630cfac7-4105-4eee-86f0-3cc4eec284ea"
      },
      "execution_count": 167,
      "outputs": [
        {
          "output_type": "execute_result",
          "data": {
            "text/plain": [
              "array([0.20864664])"
            ]
          },
          "metadata": {},
          "execution_count": 167
        }
      ]
    },
    {
      "cell_type": "code",
      "source": [
        "random_centroids = np.random.choice(n_samples, size=3)\n",
        "random_centroids"
      ],
      "metadata": {
        "colab": {
          "base_uri": "https://localhost:8080/"
        },
        "id": "3G_VSl-z5TEv",
        "outputId": "2ea4549d-00bc-450f-9ff7-586aa04be068"
      },
      "execution_count": 168,
      "outputs": [
        {
          "output_type": "execute_result",
          "data": {
            "text/plain": [
              "array([11, 17, 24])"
            ]
          },
          "metadata": {},
          "execution_count": 168
        }
      ]
    },
    {
      "cell_type": "code",
      "source": [
        "random_centroids = np.random.randint(0,n_samples,n_centroids)\n",
        "random_centroids"
      ],
      "metadata": {
        "colab": {
          "base_uri": "https://localhost:8080/"
        },
        "id": "kYCSJOdx5DQU",
        "outputId": "71a0ed0d-bfe1-4a4c-f2e5-f9a705a2a96e"
      },
      "execution_count": 169,
      "outputs": [
        {
          "output_type": "execute_result",
          "data": {
            "text/plain": [
              "array([13, 22,  0])"
            ]
          },
          "metadata": {},
          "execution_count": 169
        }
      ]
    },
    {
      "cell_type": "code",
      "source": [
        "plt.scatter(X[:,0],X[:,1])\n",
        "for i in range(len(random_centroids)):\n",
        "  index = random_centroids[i]\n",
        "  plt.plot(X[index,0], X[index,1], marker='X',color='red')\n",
        "plt.show()"
      ],
      "metadata": {
        "colab": {
          "base_uri": "https://localhost:8080/",
          "height": 429
        },
        "id": "u4klpafZ5fbA",
        "outputId": "e2b28e00-0d83-4044-8d59-1a8c23594fbe"
      },
      "execution_count": 170,
      "outputs": [
        {
          "output_type": "display_data",
          "data": {
            "text/plain": [
              "<Figure size 640x480 with 1 Axes>"
            ],
            "image/png": "[encoded data removed]"
          },
          "metadata": {}
        }
      ]
    },
    {
      "cell_type": "code",
      "source": [
        "def euclidean(point, data):\n",
        "    return np.sqrt(np.sum((point - data)**2))"
      ],
      "metadata": {
        "id": "Iw7SHZq77B37"
      },
      "execution_count": 171,
      "outputs": []
    },
    {
      "cell_type": "code",
      "source": [
        "def assign_to_centroid(random_centroids):\n",
        "  collection_points_per_cluster = [[] for _ in range(n_centroids)]\n",
        "  assign_centroid = np.zeros(n_samples)\n",
        "  # print(assign_centroid)\n",
        "  j_hist = np.zeros(shape=(n_samples,n_centroids))\n",
        "  # Assign to centroid\n",
        "  for i in range(n_samples):\n",
        "    data = np.array((X[i,0], X[i,1]))\n",
        "    # print(\"DATA\", data)\n",
        "    for j in range(n_centroids):\n",
        "      j_centroid = random_centroids[j]\n",
        "      point = np.array((X[j_centroid,0], X[j_centroid,1]))\n",
        "      dist = euclidean(data,point)\n",
        "      j_hist[i,j] = dist\n",
        "    assign_centroid[i] = j_hist[i].argmin()\n",
        "    collection_points_per_cluster[j_hist[i].argmin()].append(data)\n",
        "\n",
        "  return assign_centroid,j_hist, collection_points_per_cluster\n"
      ],
      "metadata": {
        "id": "dLPxLzuEaygC"
      },
      "execution_count": 236,
      "outputs": []
    },
    {
      "cell_type": "code",
      "source": [
        "assign_centroid,j_hist,collection_points_per_cluster = assign_to_centroid(random_centroids)\n",
        "\n",
        "collection_points_per_cluster = np.array([np.array(sublist) for sublist in collection_points_per_cluster], dtype=object)\n",
        "\n",
        "for i in range(len(random_centroids)):\n",
        "  index = random_centroids[i]\n",
        "  plt.plot(X[index,0], X[index,1], marker='X',color='red')\n",
        "\n",
        "for i in range(n_samples):\n",
        "  x = X[i,0]\n",
        "  y = X[i,1]\n",
        "  if(assign_centroid[i] == 0):\n",
        "    plt.scatter(x,y, color='black', label='0')\n",
        "  elif(assign_centroid[i] == 1):\n",
        "    plt.scatter(x,y, color='yellow', label='1')\n",
        "  elif(assign_centroid[i] == 2):\n",
        "    plt.scatter(x,y, color='blue', label='2')\n",
        "\n",
        "plt.show()"
      ],
      "metadata": {
        "colab": {
          "base_uri": "https://localhost:8080/",
          "height": 429
        },
        "id": "X2QNPYL5zjag",
        "outputId": "2ac89736-eceb-4f57-c09d-0d88ba6aa2cd"
      },
      "execution_count": 244,
      "outputs": [
        {
          "output_type": "display_data",
          "data": {
            "text/plain": [
              "<Figure size 640x480 with 1 Axes>"
            ],
            "image/png": "[encoded data removed]"
          },
          "metadata": {}
        }
      ]
    },
    {
      "cell_type": "code",
      "source": [
        "collection_points_per_cluster"
      ],
      "metadata": {
        "colab": {
          "base_uri": "https://localhost:8080/"
        },
        "id": "-4VW2z2pfMdw",
        "outputId": "0dc0211a-a7da-4ada-cb64-d6f090c99d47"
      },
      "execution_count": 247,
      "outputs": [
        {
          "output_type": "execute_result",
          "data": {
            "text/plain": [
              "array([array([[-1.50131409e-03,  9.60939224e+00],\n",
              "              [ 6.68229197e-01,  8.99959501e+00],\n",
              "              [ 8.84119643e-01,  9.75137075e+00],\n",
              "              [-9.76189846e-01,  1.07115104e+01],\n",
              "              [ 1.44117155e-01,  9.98462335e+00],\n",
              "              [-5.15847007e+00,  4.13606135e+00],\n",
              "              [-5.70019028e+00,  3.91458306e+00],\n",
              "              [-1.49211009e+00,  8.00048345e+00],\n",
              "              [ 7.87694049e-01,  1.00681289e+01],\n",
              "              [-5.56567048e+00,  4.66038660e+00],\n",
              "              [-2.15904392e-02,  7.80179239e+00],\n",
              "              [-6.97492325e-01,  7.92931020e+00]]),\n",
              "       array([[-5.91070986,  2.09205542],\n",
              "              [-5.99993669,  3.17245314],\n",
              "              [-5.06695534,  3.85598017],\n",
              "              [-4.53820676,  3.63040697],\n",
              "              [-5.65041666,  3.67900413]]),\n",
              "       array([[ 5.17292843, -3.08483491],\n",
              "              [ 6.72451517, -3.89437214],\n",
              "              [ 6.03807103, -2.38364839],\n",
              "              [ 2.80296487, -4.20512263],\n",
              "              [ 5.91539068, -4.37462201],\n",
              "              [ 5.55030149, -5.30459265],\n",
              "              [ 4.76140718, -5.03150139],\n",
              "              [ 5.48282883, -5.57533789]])], dtype=object)"
            ]
          },
          "metadata": {},
          "execution_count": 247
        }
      ]
    },
    {
      "cell_type": "code",
      "source": [
        "def find_cluster_mean():\n",
        "  cluster_means = np.zeros(shape=(n_centroids, 2))\n",
        "\n",
        "  for i in range(n_centroids):\n",
        "    x_sum = 0\n",
        "    y_sum = 0\n",
        "    n = 0\n",
        "    points = collection_points_per_cluster[i]\n",
        "    for j in range(len(points)):\n",
        "      x_y = collection_points_per_cluster[i][j]\n",
        "      x_sum += x_y[0]\n",
        "      y_sum += x_y[1]\n",
        "      n += 1\n",
        "    x_mean = x_sum / n\n",
        "    y_mean = y_sum / n\n",
        "    cluster_means[i,0] = x_mean\n",
        "    cluster_means[i,1] = y_mean\n",
        "  return cluster_means"
      ],
      "metadata": {
        "id": "GgJZuym_e0ij"
      },
      "execution_count": 312,
      "outputs": []
    },
    {
      "cell_type": "code",
      "source": [
        "cluster_mean = find_cluster_mean()\n",
        "cluster_mean"
      ],
      "metadata": {
        "colab": {
          "base_uri": "https://localhost:8080/"
        },
        "id": "Xb0-K3zHi51-",
        "outputId": "6f625003-f839-4e6a-a416-23479fc94582"
      },
      "execution_count": 313,
      "outputs": [
        {
          "output_type": "execute_result",
          "data": {
            "text/plain": [
              "array([[-1.42742123,  7.96393647],\n",
              "       [-5.43324506,  3.28597997],\n",
              "       [ 5.30605096, -4.231754  ]])"
            ]
          },
          "metadata": {},
          "execution_count": 313
        }
      ]
    },
    {
      "cell_type": "code",
      "source": [
        "plt.scatter(cluster_mean[:,0], cluster_mean[:,1], marker='x', color='red')\n",
        "plt.scatter(X[:,0], X[:,1])"
      ],
      "metadata": {
        "colab": {
          "base_uri": "https://localhost:8080/",
          "height": 445
        },
        "id": "jKeZ3qTIjIoB",
        "outputId": "1227fc87-8a4f-4482-b2c2-907a21e6de96"
      },
      "execution_count": 314,
      "outputs": [
        {
          "output_type": "execute_result",
          "data": {
            "text/plain": [
              "<matplotlib.collections.PathCollection at 0x79d20cecef80>"
            ]
          },
          "metadata": {},
          "execution_count": 314
        },
        {
          "output_type": "display_data",
          "data": {
            "text/plain": [
              "<Figure size 640x480 with 1 Axes>"
            ],
            "image/png": "[encoded data removed]"
          },
          "metadata": {}
        }
      ]
    },
    {
      "cell_type": "code",
      "source": [
        "x_test = X[:,0]\n",
        "a = cluster_mean[0,0]\n",
        "index = (np.abs(x_test - a)).argmin()\n",
        "print('x_test',X[:,0])\n",
        "print('a', a)\n",
        "print('index',index)\n",
        "print('num in index',X[index,0])"
      ],
      "metadata": {
        "colab": {
          "base_uri": "https://localhost:8080/"
        },
        "id": "4iGeWy5DkJka",
        "outputId": "858e287f-6a34-487b-b9a7-82350bef1e49"
      },
      "execution_count": 323,
      "outputs": [
        {
          "output_type": "stream",
          "name": "stdout",
          "text": [
            "x_test [ 5.17292843e+00  6.72451517e+00 -5.91070986e+00 -1.50131409e-03\n",
            "  6.68229197e-01  8.84119643e-01  6.03807103e+00 -9.76189846e-01\n",
            "  2.80296487e+00 -5.99993669e+00 -5.06695534e+00  1.44117155e-01\n",
            " -5.15847007e+00 -5.70019028e+00  5.91539068e+00 -1.49211009e+00\n",
            "  7.87694049e-01  5.55030149e+00  4.76140718e+00 -5.56567048e+00\n",
            " -2.15904392e-02 -4.53820676e+00 -5.65041666e+00 -6.97492325e-01\n",
            "  5.48282883e+00]\n",
            "a -1.4274212337857872\n",
            "index 15\n",
            "num in index -1.4921100908261646\n"
          ]
        }
      ]
    },
    {
      "cell_type": "code",
      "source": [
        "for i in range(n_centroids):\n",
        ""
      ],
      "metadata": {
        "id": "QsTTuJrokvg8"
      },
      "execution_count": null,
      "outputs": []
    },
    {
      "cell_type": "code",
      "source": [
        "a = cluster_mean[0]\n",
        "print(a)"
      ],
      "metadata": {
        "colab": {
          "base_uri": "https://localhost:8080/"
        },
        "id": "BMkqdaPinn6N",
        "outputId": "61cecb02-7271-44c6-82e2-4cde96f9fe41"
      },
      "execution_count": 328,
      "outputs": [
        {
          "output_type": "stream",
          "name": "stdout",
          "text": [
            "[-1.42742123  7.96393647]\n"
          ]
        }
      ]
    },
    {
      "cell_type": "code",
      "source": [
        "x_test = X\n",
        "a = cluster_mean[0]\n",
        "index = (np.abs(x_test - a)).argmin()\n",
        "print('x_test',X)\n",
        "print('a', a)\n",
        "print('index',index)"
      ],
      "metadata": {
        "colab": {
          "base_uri": "https://localhost:8080/"
        },
        "id": "BzP9k4djnCKW",
        "outputId": "0673cb84-934a-4de9-a79e-596be37fdc44"
      },
      "execution_count": 329,
      "outputs": [
        {
          "output_type": "stream",
          "name": "stdout",
          "text": [
            "x_test [[ 5.17292843e+00 -3.08483491e+00]\n",
            " [ 6.72451517e+00 -3.89437214e+00]\n",
            " [-5.91070986e+00  2.09205542e+00]\n",
            " [-1.50131409e-03  9.60939224e+00]\n",
            " [ 6.68229197e-01  8.99959501e+00]\n",
            " [ 8.84119643e-01  9.75137075e+00]\n",
            " [ 6.03807103e+00 -2.38364839e+00]\n",
            " [-9.76189846e-01  1.07115104e+01]\n",
            " [ 2.80296487e+00 -4.20512263e+00]\n",
            " [-5.99993669e+00  3.17245314e+00]\n",
            " [-5.06695534e+00  3.85598017e+00]\n",
            " [ 1.44117155e-01  9.98462335e+00]\n",
            " [-5.15847007e+00  4.13606135e+00]\n",
            " [-5.70019028e+00  3.91458306e+00]\n",
            " [ 5.91539068e+00 -4.37462201e+00]\n",
            " [-1.49211009e+00  8.00048345e+00]\n",
            " [ 7.87694049e-01  1.00681289e+01]\n",
            " [ 5.55030149e+00 -5.30459265e+00]\n",
            " [ 4.76140718e+00 -5.03150139e+00]\n",
            " [-5.56567048e+00  4.66038660e+00]\n",
            " [-2.15904392e-02  7.80179239e+00]\n",
            " [-4.53820676e+00  3.63040697e+00]\n",
            " [-5.65041666e+00  3.67900413e+00]\n",
            " [-6.97492325e-01  7.92931020e+00]\n",
            " [ 5.48282883e+00 -5.57533789e+00]]\n",
            "a [-1.42742123  7.96393647]\n",
            "index 47\n"
          ]
        }
      ]
    },
    {
      "cell_type": "code",
      "source": [
        "\n",
        "\n",
        "# Assuming x and y are numpy arrays containing coordinates\n",
        "# a and b are the target coordinates\n",
        "\n",
        "# Calculate distances for both x and y coordinates separately\n",
        "distances_x = np.abs(x - a)\n",
        "distances_y = np.abs(y - b)\n",
        "\n",
        "# Find the indices of the closest points in both x and y directions\n",
        "index_x = distances_x.argmin()\n",
        "index_y = distances_y.argmin()\n",
        "\n",
        "# The corresponding closest point coordinates\n",
        "closest_point_x = x[index_x]\n",
        "closest_point_y = y[index_y]\n",
        "\n",
        "# Alternatively, you can find the Euclidean distance directly\n",
        "distances = np.sqrt((x - a)**2 + (y - b)**2)\n",
        "index = distances.argmin()\n",
        "closest_point_x = x[index]\n",
        "closest_point_y = y[index]\n"
      ],
      "metadata": {
        "id": "9YHVCd9xnGeD"
      },
      "execution_count": null,
      "outputs": []
    }
  ]
}