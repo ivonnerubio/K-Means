{
  "nbformat": 4,
  "nbformat_minor": 0,
  "metadata": {
    "colab": {
      "provenance": []
    },
    "kernelspec": {
      "name": "python3",
      "display_name": "Python 3"
    },
    "language_info": {
      "name": "python"
    }
  },
  "cells": [
    {
      "cell_type": "code",
      "execution_count": 25,
      "metadata": {
        "id": "a0cmau3WAEVF"
      },
      "outputs": [],
      "source": [
        "import numpy as np\n",
        "import pandas as pd\n",
        "from sklearn.datasets import make_blobs\n",
        "import matplotlib.pyplot as plt\n",
        "import random as random"
      ]
    },
    {
      "cell_type": "code",
      "source": [
        "class KMeans:\n",
        "    def __init__(self, data, n_clusters=8, max_iter=300):\n",
        "        self.n_clusters = n_clusters\n",
        "        self.max_iter = max_iter\n",
        "        self.data = data\n",
        "        self.n_samples = len(data)\n",
        "\n",
        "    # Initialize the centroids by picking random index's in X\n",
        "    def _initialize_centroids(self):\n",
        "      random_centroids = np.random.randint(0,self.n_samples,self.n_clusters)\n",
        "      return random_centroids\n",
        "\n",
        "    def euclidean(point, data):\n",
        "      return np.sqrt(np.sum((point - data)**2))\n",
        "\n",
        "    def assign_to_centroid(self, random_centroids):\n",
        "      collection_points_per_cluster = [[] for _ in range(self.n_clusters)]\n",
        "      assign_centroid = np.zeros(n_samples)\n",
        "\n",
        "      j_hist = np.zeros(shape=(self.n_samples,self.n_clusters))\n",
        "\n",
        "      for i in range(self.n_samples):\n",
        "        data = np.array((X[i,0], X[i,1]))\n",
        "        for j in range(self.n_clusters):\n",
        "          j_centroid = random_centroids[j]\n",
        "          point = np.array((X[j_centroid,0], X[j_centroid,1]))\n",
        "          dist = self.euclidean(data,point)\n",
        "          j_hist[i,j] = dist\n",
        "        assign_centroid[i] = j_hist[i].argmin()\n",
        "        collection_points_per_cluster[j_hist[i].argmin()].append(data)\n",
        "      return assign_centroid,j_hist, collection_points_per_cluster\n",
        "\n",
        "    def find_cluster_mean(self):\n",
        "      cluster_means = np.zeros(shape=(self.n_clusters, 2))\n",
        "\n",
        "      for i in range(self.n_clusters):\n",
        "        x_sum = 0\n",
        "        y_sum = 0\n",
        "        n = 0\n",
        "        points = collection_points_per_cluster[i]\n",
        "        for j in range(len(points)):\n",
        "          x_y = collection_points_per_cluster[i][j]\n",
        "          x_sum += x_y[0]\n",
        "          y_sum += x_y[1]\n",
        "          n += 1\n",
        "        x_mean = x_sum / n\n",
        "        y_mean = y_sum / n\n",
        "        cluster_means[i,0] = x_mean\n",
        "        cluster_means[i,1] = y_mean\n",
        "      return cluster_means\n",
        "\n",
        "    def find_closets_centroid(self, cluster_mean):\n",
        "      euclidean_hist = np.zeros(shape=(3,self.n_samples))\n",
        "      new_centroids = np.zeros(shape=(self.n_clusters,2))\n",
        "      new_centroid_index = np.zeros(3)\n",
        "      for i in range(len(self.n_clusters)):\n",
        "        point = cluster_mean[i]\n",
        "        for j in range(n_samples):\n",
        "          data = np.array((X[j,0],X[j,1]))\n",
        "          euclidean_hist[i,j] = self.euclidean(data,point)\n",
        "        new_index = euclidean_hist[i].argmin()\n",
        "        new_centroid_index[i] = new_index\n",
        "        new_centroid_index = new_centroid_index.astype(int)\n",
        "        print(new_index)\n",
        "        new_centroids[i] = np.array((X[new_index,0], X[new_index,1]))\n",
        "\n",
        "      print(new_centroid_index)\n",
        "\n",
        "      # new_centroids = np.zeros(shape=(n_centroids,2)\n",
        "      print(euclidean_hist)\n",
        "      return new_centroids,new_centroid_index\n",
        "\n",
        "    def fit(self, X):\n",
        "        pass\n",
        "\n",
        "    def predict(self, X):\n",
        "        pass\n",
        "\n",
        "    def _assign_clusters(self, X, centroids):\n",
        "        pass\n",
        "\n",
        "    def _update_centroids(self, X, clusters):\n",
        "        pass\n",
        "\n"
      ],
      "metadata": {
        "id": "1NVOz7GTAIX2"
      },
      "execution_count": 37,
      "outputs": []
    },
    {
      "cell_type": "code",
      "source": [
        "def plot(assign_centroid,j_hist, collection_points_per_cluster):\n",
        "  collection_points_per_cluster = np.array([np.array(sublist) for sublist in collection_points_per_cluster], dtype=object)\n",
        "  new_centroids, new_centroid_index = find_closets_centroid()\n",
        "  for i in range(len(assign_centroid)):\n",
        "    index = new_centroid_index[i]\n",
        "    plt.plot(X[index,0], X[index,1], marker='X',color='red')\n",
        "\n",
        "  for i in range(n_samples):\n",
        "    x = X[i,0]\n",
        "    y = X[i,1]\n",
        "    if(assign_centroid[i] == 0):\n",
        "      plt.scatter(x,y, color='black', label='0')\n",
        "    elif(assign_centroid[i] == 1):\n",
        "      plt.scatter(x,y, color='yellow', label='1')\n",
        "    elif(assign_centroid[i] == 2):\n",
        "      plt.scatter(x,y, color='blue', label='2')\n",
        "\n",
        "  plt.show()"
      ],
      "metadata": {
        "id": "M8m6GFf_ATiD"
      },
      "execution_count": 38,
      "outputs": []
    },
    {
      "cell_type": "code",
      "source": [
        "n_samples = 25\n",
        "n_clusters = 3\n",
        "X,y = make_blobs(n_samples = n_samples,n_features = 2,centers = n_clusters,random_state = 24)\n",
        "plt.scatter(X[:,0],X[:,1])\n",
        "plt.show()"
      ],
      "metadata": {
        "colab": {
          "base_uri": "https://localhost:8080/",
          "height": 429
        },
        "id": "FzenJnU2AK7f",
        "outputId": "4c5675bd-3ab5-4f9a-cf72-c8c483137a9c"
      },
      "execution_count": 39,
      "outputs": [
        {
          "output_type": "display_data",
          "data": {
            "text/plain": [
              "<Figure size 640x480 with 1 Axes>"
            ],
            "image/png": "[encoded data removed]"
          },
          "metadata": {}
        }
      ]
    },
    {
      "cell_type": "code",
      "source": [
        "kMeans = KMeans(data=X, n_clusters=n_clusters, max_iter=300)\n",
        "initial_centroids = kMeans._initialize_centroids()\n",
        "\n",
        "plt.scatter(X[:,0],X[:,1])\n",
        "for i in range(len(initial_centroids)):\n",
        "  index = initial_centroids[i]\n",
        "  plt.plot(X[index,0], X[index,1], marker='X',color='red')\n",
        "plt.show()"
      ],
      "metadata": {
        "colab": {
          "base_uri": "https://localhost:8080/",
          "height": 429
        },
        "id": "uQyytuY1AQJa",
        "outputId": "2730e721-c46c-4821-9ac9-c5ff13b73666"
      },
      "execution_count": 40,
      "outputs": [
        {
          "output_type": "display_data",
          "data": {
            "text/plain": [
              "<Figure size 640x480 with 1 Axes>"
            ],
            "image/png": "[encoded data removed]"
          },
          "metadata": {}
        }
      ]
    },
    {
      "cell_type": "code",
      "source": [
        "assign_centroid,j_hist,collection_points_per_cluster  = kMeans.assign_to_centroid(initial_centroids)\n",
        "plot(assign_centroid,j_hist,collection_points_per_cluster)"
      ],
      "metadata": {
        "colab": {
          "base_uri": "https://localhost:8080/",
          "height": 317
        },
        "id": "8RP5fUhkAd3Q",
        "outputId": "043b5f36-c048-48e2-ab59-ac039c64d2e0"
      },
      "execution_count": 41,
      "outputs": [
        {
          "output_type": "error",
          "ename": "TypeError",
          "evalue": "KMeans.euclidean() takes 2 positional arguments but 3 were given",
          "traceback": [
            "\u001b[0;31m---------------------------------------------------------------------------\u001b[0m",
            "\u001b[0;31mTypeError\u001b[0m                                 Traceback (most recent call last)",
            "\u001b[0;32m<ipython-input-41-78d5c9d1bbc5>\u001b[0m in \u001b[0;36m<cell line: 1>\u001b[0;34m()\u001b[0m\n\u001b[0;32m----> 1\u001b[0;31m \u001b[0massign_centroid\u001b[0m\u001b[0;34m,\u001b[0m\u001b[0mj_hist\u001b[0m\u001b[0;34m,\u001b[0m\u001b[0mcollection_points_per_cluster\u001b[0m  \u001b[0;34m=\u001b[0m \u001b[0mkMeans\u001b[0m\u001b[0;34m.\u001b[0m\u001b[0massign_to_centroid\u001b[0m\u001b[0;34m(\u001b[0m\u001b[0minitial_centroids\u001b[0m\u001b[0;34m)\u001b[0m\u001b[0;34m\u001b[0m\u001b[0;34m\u001b[0m\u001b[0m\n\u001b[0m\u001b[1;32m      2\u001b[0m \u001b[0mplot\u001b[0m\u001b[0;34m(\u001b[0m\u001b[0massign_centroid\u001b[0m\u001b[0;34m,\u001b[0m\u001b[0mj_hist\u001b[0m\u001b[0;34m,\u001b[0m\u001b[0mcollection_points_per_cluster\u001b[0m\u001b[0;34m)\u001b[0m\u001b[0;34m\u001b[0m\u001b[0;34m\u001b[0m\u001b[0m\n",
            "\u001b[0;32m<ipython-input-37-0b66f0e234ca>\u001b[0m in \u001b[0;36massign_to_centroid\u001b[0;34m(self, random_centroids)\u001b[0m\n\u001b[1;32m     25\u001b[0m           \u001b[0mj_centroid\u001b[0m \u001b[0;34m=\u001b[0m \u001b[0mrandom_centroids\u001b[0m\u001b[0;34m[\u001b[0m\u001b[0mj\u001b[0m\u001b[0;34m]\u001b[0m\u001b[0;34m\u001b[0m\u001b[0;34m\u001b[0m\u001b[0m\n\u001b[1;32m     26\u001b[0m           \u001b[0mpoint\u001b[0m \u001b[0;34m=\u001b[0m \u001b[0mnp\u001b[0m\u001b[0;34m.\u001b[0m\u001b[0marray\u001b[0m\u001b[0;34m(\u001b[0m\u001b[0;34m(\u001b[0m\u001b[0mX\u001b[0m\u001b[0;34m[\u001b[0m\u001b[0mj_centroid\u001b[0m\u001b[0;34m,\u001b[0m\u001b[0;36m0\u001b[0m\u001b[0;34m]\u001b[0m\u001b[0;34m,\u001b[0m \u001b[0mX\u001b[0m\u001b[0;34m[\u001b[0m\u001b[0mj_centroid\u001b[0m\u001b[0;34m,\u001b[0m\u001b[0;36m1\u001b[0m\u001b[0;34m]\u001b[0m\u001b[0;34m)\u001b[0m\u001b[0;34m)\u001b[0m\u001b[0;34m\u001b[0m\u001b[0;34m\u001b[0m\u001b[0m\n\u001b[0;32m---> 27\u001b[0;31m           \u001b[0mdist\u001b[0m \u001b[0;34m=\u001b[0m \u001b[0mself\u001b[0m\u001b[0;34m.\u001b[0m\u001b[0meuclidean\u001b[0m\u001b[0;34m(\u001b[0m\u001b[0mdata\u001b[0m\u001b[0;34m,\u001b[0m\u001b[0mpoint\u001b[0m\u001b[0;34m)\u001b[0m\u001b[0;34m\u001b[0m\u001b[0;34m\u001b[0m\u001b[0m\n\u001b[0m\u001b[1;32m     28\u001b[0m           \u001b[0mj_hist\u001b[0m\u001b[0;34m[\u001b[0m\u001b[0mi\u001b[0m\u001b[0;34m,\u001b[0m\u001b[0mj\u001b[0m\u001b[0;34m]\u001b[0m \u001b[0;34m=\u001b[0m \u001b[0mdist\u001b[0m\u001b[0;34m\u001b[0m\u001b[0;34m\u001b[0m\u001b[0m\n\u001b[1;32m     29\u001b[0m         \u001b[0massign_centroid\u001b[0m\u001b[0;34m[\u001b[0m\u001b[0mi\u001b[0m\u001b[0;34m]\u001b[0m \u001b[0;34m=\u001b[0m \u001b[0mj_hist\u001b[0m\u001b[0;34m[\u001b[0m\u001b[0mi\u001b[0m\u001b[0;34m]\u001b[0m\u001b[0;34m.\u001b[0m\u001b[0margmin\u001b[0m\u001b[0;34m(\u001b[0m\u001b[0;34m)\u001b[0m\u001b[0;34m\u001b[0m\u001b[0;34m\u001b[0m\u001b[0m\n",
            "\u001b[0;31mTypeError\u001b[0m: KMeans.euclidean() takes 2 positional arguments but 3 were given"
          ]
        }
      ]
    },
    {
      "cell_type": "code",
      "source": [],
      "metadata": {
        "id": "4j9WDjoOBUsA"
      },
      "execution_count": 30,
      "outputs": []
    }
  ]
}