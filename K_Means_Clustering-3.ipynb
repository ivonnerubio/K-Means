{
  "nbformat": 4,
  "nbformat_minor": 0,
  "metadata": {
    "colab": {
      "provenance": []
    },
    "kernelspec": {
      "name": "python3",
      "display_name": "Python 3"
    },
    "language_info": {
      "name": "python"
    }
  },
  "cells": [
    {
      "cell_type": "code",
      "execution_count": 19,
      "metadata": {
        "id": "WlTKLmIplGwM"
      },
      "outputs": [],
      "source": [
        "import numpy as np\n",
        "import pandas as pd\n",
        "from sklearn.datasets import make_blobs\n",
        "import matplotlib.pyplot as plt\n",
        "import random as random"
      ]
    },
    {
      "cell_type": "markdown",
      "source": [
        "1. **Initialize**: Determine the number of clusters (K) you want to partition your data into. Randomly initialize K cluster centroids. These centroids can be randomly selected data points or placed at random locations within the feature space.\n",
        "\n",
        "2. **Assign Data Points to Clusters**: For each data point, calculate the distance to each centroid using a distance metric such as Euclidean distance. Assign each data point to the cluster whose centroid is closest to it.\n",
        "\n",
        "3. **Update Centroids**: After all data points have been assigned to clusters, calculate the mean of the data points in each cluster. This will be the new centroid for that cluster.\n",
        "\n",
        "4. **Repeat**: Repeat steps 2 and 3 until convergence criteria are met. Convergence can be defined by several conditions, such as no (or minimal) change in cluster assignments or centroids, a maximum number of iterations reached, or a predefined threshold for centroid movement.\n",
        "\n",
        "5. **Convergence Criteria**: Decide on a stopping criterion to end the iterative process. Common criteria include a maximum number of iterations, a minimum change in centroid positions, or when the cluster assignments no longer change.\n",
        "\n",
        "6. **Finalize Clusters**: Once the algorithm converges, the clusters are finalized. Each data point is assigned to one of the K clusters.\n",
        "\n",
        "7. **Evaluation (Optional)**: If ground truth labels are available, you can evaluate the quality of the clustering using metrics such as the Silhouette Score or the Davies–Bouldin Index. These metrics measure the compactness and separation of the clusters.\n",
        "\n",
        "8. **Parameter Tuning (Optional)**: Experiment with different initializations, distance metrics, and numbers of clusters to find the optimal clustering solution for your data.\n",
        "\n",
        "By following these steps, you can implement a basic K-means clustering algorithm from scratch. Remember that K-means is sensitive to initialization, and different initializations may lead to different final cluster assignments. Therefore, it's often a good practice to run the algorithm multiple times with different initializations and choose the solution with the lowest objective function value or the best clustering quality metric.\n"
      ],
      "metadata": {
        "id": "M9qS2OjPlUe4"
      }
    },
    {
      "cell_type": "code",
      "source": [
        "n_samples = 25\n",
        "n_centroids = 3\n",
        "X,y = make_blobs(n_samples = n_samples,n_features = 2,centers = n_centroids,random_state = 24)\n",
        "plt.scatter(X[:,0],X[:,1])\n",
        "plt.show()"
      ],
      "metadata": {
        "colab": {
          "base_uri": "https://localhost:8080/",
          "height": 429
        },
        "id": "0fmoStsXl9ia",
        "outputId": "5f6da48c-9d87-42d1-8fb9-ee3b89e313b6"
      },
      "execution_count": 87,
      "outputs": [
        {
          "output_type": "display_data",
          "data": {
            "text/plain": [
              "<Figure size 640x480 with 1 Axes>"
            ],
            "image/png": "[encoded data removed]"
          },
          "metadata": {}
        }
      ]
    },
    {
      "cell_type": "code",
      "source": [
        "print(X)"
      ],
      "metadata": {
        "colab": {
          "base_uri": "https://localhost:8080/"
        },
        "id": "DbTZttcHSQlI",
        "outputId": "601ae519-3cca-4872-9ba6-a548fe1f3ee0"
      },
      "execution_count": 88,
      "outputs": [
        {
          "output_type": "stream",
          "name": "stdout",
          "text": [
            "[[-1.51476956  5.08685459]\n",
            " [ 8.88406571  2.99943061]\n",
            " [ 9.61166234 -5.078836  ]\n",
            " [-2.80072625  4.84366052]\n",
            " [-3.36541099  5.08753989]\n",
            " [ 8.71918075  4.84046953]\n",
            " [ 9.76476292  4.28596289]\n",
            " [-1.74832259  4.91491774]\n",
            " [-4.74916142  5.60072569]\n",
            " [-4.40762578  4.40445921]\n",
            " [ 8.12952981  2.55152772]\n",
            " [-2.90869286  5.42834275]\n",
            " [ 9.87915087  5.87951373]\n",
            " [10.65377073  5.04797843]\n",
            " [10.11901421 -4.39105147]\n",
            " [10.35183864 -4.56112637]\n",
            " [-1.07790022  5.85814956]\n",
            " [ 8.66041017 -5.03579287]\n",
            " [ 7.57394183  4.2098062 ]\n",
            " [11.68392874 -6.92461715]\n",
            " [ 9.99530564 -3.97085826]\n",
            " [11.42632955 -7.68800828]\n",
            " [11.39020068 -5.66198199]\n",
            " [10.16188447  4.09425219]\n",
            " [ 9.36590767  4.50525938]]\n"
          ]
        }
      ]
    },
    {
      "cell_type": "code",
      "source": [
        "random_centroids = np.random.sample(1)\n",
        "random_centroids"
      ],
      "metadata": {
        "colab": {
          "base_uri": "https://localhost:8080/"
        },
        "id": "ZF4r6d7fsUNA",
        "outputId": "800b2061-0d9e-4846-fd98-ac0589f1b364"
      },
      "execution_count": 101,
      "outputs": [
        {
          "output_type": "execute_result",
          "data": {
            "text/plain": [
              "array([0.82111509])"
            ]
          },
          "metadata": {},
          "execution_count": 101
        }
      ]
    },
    {
      "cell_type": "code",
      "source": [
        "random_centroids = np.random.choice(n_samples, size=3)\n",
        "print(np.shape(random_centroids))\n",
        "print(random_centroids)"
      ],
      "metadata": {
        "colab": {
          "base_uri": "https://localhost:8080/"
        },
        "id": "3G_VSl-z5TEv",
        "outputId": "6473f93a-a94b-4bd4-a046-364ab565e9fa"
      },
      "execution_count": 135,
      "outputs": [
        {
          "output_type": "stream",
          "name": "stdout",
          "text": [
            "(3,)\n",
            "[16 19 21]\n"
          ]
        }
      ]
    },
    {
      "cell_type": "code",
      "source": [
        "random_centroids = np.random.randint(0,n_samples,n_centroids)\n",
        "random_centroids"
      ],
      "metadata": {
        "colab": {
          "base_uri": "https://localhost:8080/"
        },
        "id": "kYCSJOdx5DQU",
        "outputId": "56f93588-0e01-418b-fe87-daa199590133"
      },
      "execution_count": 103,
      "outputs": [
        {
          "output_type": "execute_result",
          "data": {
            "text/plain": [
              "array([19, 12, 16])"
            ]
          },
          "metadata": {},
          "execution_count": 103
        }
      ]
    },
    {
      "cell_type": "code",
      "source": [
        "plt.scatter(X[:,0],X[:,1])\n",
        "for i in range(len(random_centroids)):\n",
        "  index = random_centroids[i]\n",
        "  plt.plot(X[index,0], X[index,1], marker='X',color='red')\n",
        "plt.show()"
      ],
      "metadata": {
        "colab": {
          "base_uri": "https://localhost:8080/",
          "height": 429
        },
        "id": "u4klpafZ5fbA",
        "outputId": "bca30c38-5f82-4e1f-dc9e-2a82f2853198"
      },
      "execution_count": 104,
      "outputs": [
        {
          "output_type": "display_data",
          "data": {
            "text/plain": [
              "<Figure size 640x480 with 1 Axes>"
            ],
            "image/png": "[encoded data removed]"
          },
          "metadata": {}
        }
      ]
    },
    {
      "cell_type": "code",
      "source": [
        "def euclidean(point, data):\n",
        "    return np.sqrt(np.sum((point - data)**2))"
      ],
      "metadata": {
        "id": "Iw7SHZq77B37"
      },
      "execution_count": 105,
      "outputs": []
    },
    {
      "cell_type": "code",
      "source": [
        "def assign_to_centroid(random_centroids):\n",
        "  collection_points_per_cluster = [[] for _ in range(n_centroids)]\n",
        "  assign_centroid = np.zeros(n_samples)\n",
        "  # print(assign_centroid)\n",
        "  j_hist = np.zeros(shape=(n_samples,n_centroids))\n",
        "  # Assign to centroid\n",
        "  for i in range(n_samples):\n",
        "    data = np.array((X[i,0], X[i,1]))\n",
        "    # print(\"DATA\", data)\n",
        "    for j in range(n_centroids):\n",
        "      j_centroid = random_centroids[j]\n",
        "      point = np.array((X[j_centroid,0], X[j_centroid,1]))\n",
        "      dist = euclidean(data,point)\n",
        "      j_hist[i,j] = dist\n",
        "    assign_centroid[i] = j_hist[i].argmin()\n",
        "    collection_points_per_cluster[j_hist[i].argmin()].append(data)\n",
        "\n",
        "  return assign_centroid,j_hist, collection_points_per_cluster\n"
      ],
      "metadata": {
        "id": "dLPxLzuEaygC"
      },
      "execution_count": 106,
      "outputs": []
    },
    {
      "cell_type": "code",
      "source": [
        "assign_centroid,j_hist,collection_points_per_cluster = assign_to_centroid(random_centroids)\n",
        "\n",
        "collection_points_per_cluster = np.array([np.array(sublist) for sublist in collection_points_per_cluster], dtype=object)\n",
        "\n",
        "for i in range(len(random_centroids)):\n",
        "  index = random_centroids[i]\n",
        "  plt.plot(X[index,0], X[index,1], marker='X',color='red')\n",
        "\n",
        "for i in range(n_samples):\n",
        "  x = X[i,0]\n",
        "  y = X[i,1]\n",
        "  if(assign_centroid[i] == 0):\n",
        "    plt.scatter(x,y, color='black', label='0')\n",
        "  elif(assign_centroid[i] == 1):\n",
        "    plt.scatter(x,y, color='yellow', label='1')\n",
        "  elif(assign_centroid[i] == 2):\n",
        "    plt.scatter(x,y, color='blue', label='2')\n",
        "\n",
        "plt.show()"
      ],
      "metadata": {
        "colab": {
          "base_uri": "https://localhost:8080/",
          "height": 429
        },
        "id": "X2QNPYL5zjag",
        "outputId": "9c117b95-d93c-430d-a6f0-2b6c2c225972"
      },
      "execution_count": 107,
      "outputs": [
        {
          "output_type": "display_data",
          "data": {
            "text/plain": [
              "<Figure size 640x480 with 1 Axes>"
            ],
            "image/png": "[encoded data removed]"
          },
          "metadata": {}
        }
      ]
    },
    {
      "cell_type": "code",
      "source": [
        "collection_points_per_cluster"
      ],
      "metadata": {
        "colab": {
          "base_uri": "https://localhost:8080/"
        },
        "id": "-4VW2z2pfMdw",
        "outputId": "071d53bb-414f-4823-b817-a599a56b2187"
      },
      "execution_count": 118,
      "outputs": [
        {
          "output_type": "execute_result",
          "data": {
            "text/plain": [
              "array([array([[ 9.61166234, -5.078836  ],\n",
              "              [10.11901421, -4.39105147],\n",
              "              [10.35183864, -4.56112637],\n",
              "              [ 8.66041017, -5.03579287],\n",
              "              [11.68392874, -6.92461715],\n",
              "              [ 9.99530564, -3.97085826],\n",
              "              [11.42632955, -7.68800828],\n",
              "              [11.39020068, -5.66198199]]),\n",
              "       array([[ 8.88406571,  2.99943061],\n",
              "              [ 8.71918075,  4.84046953],\n",
              "              [ 9.76476292,  4.28596289],\n",
              "              [ 8.12952981,  2.55152772],\n",
              "              [ 9.87915087,  5.87951373],\n",
              "              [10.65377073,  5.04797843],\n",
              "              [ 7.57394183,  4.2098062 ],\n",
              "              [10.16188447,  4.09425219],\n",
              "              [ 9.36590767,  4.50525938]]),\n",
              "       array([[-1.51476956,  5.08685459],\n",
              "              [-2.80072625,  4.84366052],\n",
              "              [-3.36541099,  5.08753989],\n",
              "              [-1.74832259,  4.91491774],\n",
              "              [-4.74916142,  5.60072569],\n",
              "              [-4.40762578,  4.40445921],\n",
              "              [-2.90869286,  5.42834275],\n",
              "              [-1.07790022,  5.85814956]])], dtype=object)"
            ]
          },
          "metadata": {},
          "execution_count": 118
        }
      ]
    },
    {
      "cell_type": "code",
      "source": [
        "def find_cluster_mean():\n",
        "  cluster_means = np.zeros(shape=(n_centroids, 2))\n",
        "\n",
        "  for i in range(n_centroids):\n",
        "    x_sum = 0\n",
        "    y_sum = 0\n",
        "    n = 0\n",
        "    points = collection_points_per_cluster[i]\n",
        "    for j in range(len(points)):\n",
        "      x_y = collection_points_per_cluster[i][j]\n",
        "      x_sum += x_y[0]\n",
        "      y_sum += x_y[1]\n",
        "      n += 1\n",
        "    x_mean = x_sum / n\n",
        "    y_mean = y_sum / n\n",
        "    cluster_means[i,0] = x_mean\n",
        "    cluster_means[i,1] = y_mean\n",
        "  return cluster_means"
      ],
      "metadata": {
        "id": "GgJZuym_e0ij"
      },
      "execution_count": 119,
      "outputs": []
    },
    {
      "cell_type": "code",
      "source": [
        "cluster_mean = find_cluster_mean()\n",
        "cluster_mean"
      ],
      "metadata": {
        "colab": {
          "base_uri": "https://localhost:8080/"
        },
        "id": "Xb0-K3zHi51-",
        "outputId": "b5be8384-2f67-40d1-e9a5-f473a25a6e8d"
      },
      "execution_count": 120,
      "outputs": [
        {
          "output_type": "execute_result",
          "data": {
            "text/plain": [
              "array([[10.40483625, -5.41403405],\n",
              "       [ 9.23691053,  4.26824452],\n",
              "       [-2.82157621,  5.15308124]])"
            ]
          },
          "metadata": {},
          "execution_count": 120
        }
      ]
    },
    {
      "cell_type": "code",
      "source": [
        "plt.scatter(cluster_mean[:,0], cluster_mean[:,1], marker='x', color='red')\n",
        "plt.scatter(X[:,0], X[:,1])"
      ],
      "metadata": {
        "colab": {
          "base_uri": "https://localhost:8080/",
          "height": 445
        },
        "id": "jKeZ3qTIjIoB",
        "outputId": "a5d0407c-8b5d-4db7-8730-f4dbdf4bf3e7"
      },
      "execution_count": 121,
      "outputs": [
        {
          "output_type": "execute_result",
          "data": {
            "text/plain": [
              "<matplotlib.collections.PathCollection at 0x7969000d1600>"
            ]
          },
          "metadata": {},
          "execution_count": 121
        },
        {
          "output_type": "display_data",
          "data": {
            "text/plain": [
              "<Figure size 640x480 with 1 Axes>"
            ],
            "image/png": "[encoded data removed]"
          },
          "metadata": {}
        }
      ]
    },
    {
      "cell_type": "code",
      "source": [
        "euclidean_hist = np.zeros(shape=(3,n_samples))\n",
        "new_centroids = np.zeros(shape=(n_centroids,2))\n",
        "new_centroid_index = np.zeros(3)\n",
        "for i in range(len(cluster_mean)):\n",
        "  point = cluster_mean[i]\n",
        "  for j in range(n_samples):\n",
        "    data = np.array((X[j,0],X[j,1]))\n",
        "    euclidean_hist[i,j] = euclidean(data,point)\n",
        "  new_index = euclidean_hist[i].argmin()\n",
        "  new_centroid_index[i] = new_index\n",
        "  print(new_index)\n",
        "  new_centroids[i] = np.array((X[new_index,0], X[new_index,1]))\n",
        "\n",
        "print(new_centroid_index)\n",
        "\n",
        "# new_centroids = np.zeros(shape=(n_centroids,2)\n",
        "print(euclidean_hist)"
      ],
      "metadata": {
        "colab": {
          "base_uri": "https://localhost:8080/"
        },
        "id": "-UPU8ktwiMP3",
        "outputId": "f1b88f1e-4646-4fe2-b9bd-87760eef0dbc"
      },
      "execution_count": 129,
      "outputs": [
        {
          "output_type": "stream",
          "name": "stdout",
          "text": [
            "15\n",
            "24\n",
            "11\n",
            "[15. 24. 11.]\n",
            "[[15.88539155  8.54980296  0.86109382 16.72145863 17.31770088 10.39212577\n",
            "   9.72109224 15.94949888 18.73415537 17.77109567  8.28415316 17.16995026\n",
            "  11.30577581 10.46497365  1.06216176  0.85455266 16.09084709  1.78496183\n",
            "  10.0315634   1.97937842  1.50015722  2.49287131  1.01608132  9.51138964\n",
            "   9.97355276]\n",
            " [10.78279867  1.31696173  9.35458996 12.05138178 12.62892523  0.77167713\n",
            "   0.52814968 11.00425067 14.04940264 13.64521621  2.04289222 12.20088151\n",
            "   1.73454926  1.6172439   8.70410902  8.89948622 10.43662391  9.32188095\n",
            "   1.66399517 11.457227    8.27393363 12.15506219 10.16100669  0.94119611\n",
            "   0.26984497]\n",
            " [ 1.3084837  11.90211173 16.10209773  0.31012241  0.54776997 11.54499013\n",
            "  12.61617322  1.09936126  1.97888107  1.75384954 11.25587863  0.28871822\n",
            "  12.72148467 13.47575681 16.07946982 16.36779424  1.88083154 15.3508686\n",
            "  10.43822605 18.8753933  15.73272806 19.18062561 17.8588968  13.02656401\n",
            "  12.20468912]]\n"
          ]
        }
      ]
    },
    {
      "cell_type": "code",
      "source": [
        "plt.scatter(X[:,0], X[:,1])\n",
        "plt.scatter(new_centroids[:,0], new_centroids[:,1], marker='X', color='red')\n",
        "plt.show()"
      ],
      "metadata": {
        "colab": {
          "base_uri": "https://localhost:8080/",
          "height": 429
        },
        "id": "J1E9KUleqxi5",
        "outputId": "0cea6f33-3dba-4ca6-b12c-0fc7efca9010"
      },
      "execution_count": 123,
      "outputs": [
        {
          "output_type": "display_data",
          "data": {
            "text/plain": [
              "<Figure size 640x480 with 1 Axes>"
            ],
            "image/png": "[encoded data removed]"
          },
          "metadata": {}
        }
      ]
    },
    {
      "cell_type": "code",
      "source": [
        "assign_centroid,j_hist, collection_points_per_cluster = assign_to_centroid(new_centroid_index)"
      ],
      "metadata": {
        "colab": {
          "base_uri": "https://localhost:8080/",
          "height": 284
        },
        "id": "JK8FROmtsERt",
        "outputId": "c9f444db-a2d3-45f2-a02c-856aff21ae11"
      },
      "execution_count": 130,
      "outputs": [
        {
          "output_type": "error",
          "ename": "IndexError",
          "evalue": "only integers, slices (`:`), ellipsis (`...`), numpy.newaxis (`None`) and integer or boolean arrays are valid indices",
          "traceback": [
            "\u001b[0;31m---------------------------------------------------------------------------\u001b[0m",
            "\u001b[0;31mIndexError\u001b[0m                                Traceback (most recent call last)",
            "\u001b[0;32m<ipython-input-130-b071a956d7cb>\u001b[0m in \u001b[0;36m<cell line: 1>\u001b[0;34m()\u001b[0m\n\u001b[0;32m----> 1\u001b[0;31m \u001b[0massign_centroid\u001b[0m\u001b[0;34m,\u001b[0m\u001b[0mj_hist\u001b[0m\u001b[0;34m,\u001b[0m \u001b[0mcollection_points_per_cluster\u001b[0m \u001b[0;34m=\u001b[0m \u001b[0massign_to_centroid\u001b[0m\u001b[0;34m(\u001b[0m\u001b[0mnew_centroid_index\u001b[0m\u001b[0;34m)\u001b[0m\u001b[0;34m\u001b[0m\u001b[0;34m\u001b[0m\u001b[0m\n\u001b[0m",
            "\u001b[0;32m<ipython-input-106-c12792a24510>\u001b[0m in \u001b[0;36massign_to_centroid\u001b[0;34m(random_centroids)\u001b[0m\n\u001b[1;32m     10\u001b[0m     \u001b[0;32mfor\u001b[0m \u001b[0mj\u001b[0m \u001b[0;32min\u001b[0m \u001b[0mrange\u001b[0m\u001b[0;34m(\u001b[0m\u001b[0mn_centroids\u001b[0m\u001b[0;34m)\u001b[0m\u001b[0;34m:\u001b[0m\u001b[0;34m\u001b[0m\u001b[0;34m\u001b[0m\u001b[0m\n\u001b[1;32m     11\u001b[0m       \u001b[0mj_centroid\u001b[0m \u001b[0;34m=\u001b[0m \u001b[0mrandom_centroids\u001b[0m\u001b[0;34m[\u001b[0m\u001b[0mj\u001b[0m\u001b[0;34m]\u001b[0m\u001b[0;34m\u001b[0m\u001b[0;34m\u001b[0m\u001b[0m\n\u001b[0;32m---> 12\u001b[0;31m       \u001b[0mpoint\u001b[0m \u001b[0;34m=\u001b[0m \u001b[0mnp\u001b[0m\u001b[0;34m.\u001b[0m\u001b[0marray\u001b[0m\u001b[0;34m(\u001b[0m\u001b[0;34m(\u001b[0m\u001b[0mX\u001b[0m\u001b[0;34m[\u001b[0m\u001b[0mj_centroid\u001b[0m\u001b[0;34m,\u001b[0m\u001b[0;36m0\u001b[0m\u001b[0;34m]\u001b[0m\u001b[0;34m,\u001b[0m \u001b[0mX\u001b[0m\u001b[0;34m[\u001b[0m\u001b[0mj_centroid\u001b[0m\u001b[0;34m,\u001b[0m\u001b[0;36m1\u001b[0m\u001b[0;34m]\u001b[0m\u001b[0;34m)\u001b[0m\u001b[0;34m)\u001b[0m\u001b[0;34m\u001b[0m\u001b[0;34m\u001b[0m\u001b[0m\n\u001b[0m\u001b[1;32m     13\u001b[0m       \u001b[0mdist\u001b[0m \u001b[0;34m=\u001b[0m \u001b[0meuclidean\u001b[0m\u001b[0;34m(\u001b[0m\u001b[0mdata\u001b[0m\u001b[0;34m,\u001b[0m\u001b[0mpoint\u001b[0m\u001b[0;34m)\u001b[0m\u001b[0;34m\u001b[0m\u001b[0;34m\u001b[0m\u001b[0m\n\u001b[1;32m     14\u001b[0m       \u001b[0mj_hist\u001b[0m\u001b[0;34m[\u001b[0m\u001b[0mi\u001b[0m\u001b[0;34m,\u001b[0m\u001b[0mj\u001b[0m\u001b[0;34m]\u001b[0m \u001b[0;34m=\u001b[0m \u001b[0mdist\u001b[0m\u001b[0;34m\u001b[0m\u001b[0;34m\u001b[0m\u001b[0m\n",
            "\u001b[0;31mIndexError\u001b[0m: only integers, slices (`:`), ellipsis (`...`), numpy.newaxis (`None`) and integer or boolean arrays are valid indices"
          ]
        }
      ]
    },
    {
      "cell_type": "code",
      "source": [
        "class KMeans:\n",
        "    def __init__(self, n_clusters=8, max_iter=300):\n",
        "        self.n_clusters = n_clusters\n",
        "        self.max_iter = max_iter\n",
        "\n",
        "    def fit(self, X):\n",
        "        pass\n",
        "\n",
        "    def predict(self, X):\n",
        "        pass\n",
        "    # Initialize the centroids by picking random index's in X\n",
        "    def _initialize_centroids(self, X):\n",
        "        random_centroids = np.random.randint(0,len(X),self.n_clusters)\n",
        "        return random_centroids\n",
        "\n",
        "    def _assign_clusters(self, X, centroids):\n",
        "      collection_points_per_cluster = [[] for _ in range(self.n_clusters)]\n",
        "      assign_centroid = np.zeros(len(X))\n",
        "      j_hist = np.zeros(shape=(len(X),self.n_clusters))\n",
        "      # Assign to centroid\n",
        "      for i in range(len(X)):\n",
        "        data = np.array((X[i,0], X[i,1]))\n",
        "        # print(\"DATA\", data)\n",
        "        for j in range(self.n_clusters):\n",
        "          j_centroid = random_centroids[j]\n",
        "          point = np.array((X[j_centroid,0], X[j_centroid,1]))\n",
        "          dist = _calculate_distance(data,point)\n",
        "          j_hist[i,j] = dist\n",
        "        assign_centroid[i] = j_hist[i].argmin()\n",
        "        collection_points_per_cluster[j_hist[i].argmin()].append(data)\n",
        "      return assign_centroid,j_hist, collection_points_per_cluster\n",
        "\n",
        "    def _update_centroids(self, X, clusters):\n",
        "        pass\n",
        "\n",
        "    # Calculate Euclidean Distance\n",
        "    def _calculate_distance(self, centroid, data):\n",
        "      euclidean_distace = np.sqrt(np.sum((centroid - data)**2))\n",
        "      return euclidean_distace\n"
      ],
      "metadata": {
        "id": "Ts-caihAtpFv"
      },
      "execution_count": 140,
      "outputs": []
    }
  ]
}