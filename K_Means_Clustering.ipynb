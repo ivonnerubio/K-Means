{
  "nbformat": 4,
  "nbformat_minor": 0,
  "metadata": {
    "colab": {
      "provenance": []
    },
    "kernelspec": {
      "name": "python3",
      "display_name": "Python 3"
    },
    "language_info": {
      "name": "python"
    }
  },
  "cells": [
    {
      "cell_type": "code",
      "execution_count": 158,
      "metadata": {
        "id": "WlTKLmIplGwM"
      },
      "outputs": [],
      "source": [
        "import numpy as np\n",
        "import pandas as pd\n",
        "from sklearn.datasets import make_blobs\n",
        "import matplotlib.pyplot as plt\n",
        "import random as random"
      ]
    },
    {
      "cell_type": "markdown",
      "source": [
        "Initialize k means with random values\n",
        "--> For a given number of iterations:\n",
        "    \n",
        "    --> Iterate through items:\n",
        "    \n",
        "        --> Find the mean closest to the item by calculating\n",
        "        the euclidean distance of the item with each of the means\n",
        "        \n",
        "        --> Assign item to mean\n",
        "        \n",
        "        --> Update mean by shifting it to the average of the items in that cluster"
      ],
      "metadata": {
        "id": "M9qS2OjPlUe4"
      }
    },
    {
      "cell_type": "code",
      "source": [
        "n_samples = 25\n",
        "n_centroids = 3\n",
        "X,y = make_blobs(n_samples = n_samples,n_features = 2,centers = n_centroids,random_state = 23)\n",
        "plt.scatter(X[:,0],X[:,1])\n",
        "plt.show()"
      ],
      "metadata": {
        "colab": {
          "base_uri": "https://localhost:8080/",
          "height": 429
        },
        "id": "0fmoStsXl9ia",
        "outputId": "e7ef7541-682c-4907-cba4-842cc9e3283e"
      },
      "execution_count": 159,
      "outputs": [
        {
          "output_type": "display_data",
          "data": {
            "text/plain": [
              "<Figure size 640x480 with 1 Axes>"
            ],
            "image/png": "[encoded data removed]"
          },
          "metadata": {}
        }
      ]
    },
    {
      "cell_type": "code",
      "source": [
        "random_centroids = np.random.sample(1)\n",
        "random_centroids"
      ],
      "metadata": {
        "colab": {
          "base_uri": "https://localhost:8080/"
        },
        "id": "ZF4r6d7fsUNA",
        "outputId": "201219cc-4129-40f2-f0e7-19470de91523"
      },
      "execution_count": 160,
      "outputs": [
        {
          "output_type": "execute_result",
          "data": {
            "text/plain": [
              "array([0.34525576])"
            ]
          },
          "metadata": {},
          "execution_count": 160
        }
      ]
    },
    {
      "cell_type": "code",
      "source": [
        "random_centroids = np.random.choice(n_samples, size=3)\n",
        "random_centroids"
      ],
      "metadata": {
        "colab": {
          "base_uri": "https://localhost:8080/"
        },
        "id": "3G_VSl-z5TEv",
        "outputId": "3a50a3c2-8b74-40e5-9492-a81b4a1c1782"
      },
      "execution_count": 161,
      "outputs": [
        {
          "output_type": "execute_result",
          "data": {
            "text/plain": [
              "array([16,  9,  4])"
            ]
          },
          "metadata": {},
          "execution_count": 161
        }
      ]
    },
    {
      "cell_type": "code",
      "source": [
        "random_centroids = np.random.randint(0,n_samples,n_centroids)\n",
        "random_centroids"
      ],
      "metadata": {
        "colab": {
          "base_uri": "https://localhost:8080/"
        },
        "id": "kYCSJOdx5DQU",
        "outputId": "799b570d-0f50-4d2e-c95f-b72a21123179"
      },
      "execution_count": 162,
      "outputs": [
        {
          "output_type": "execute_result",
          "data": {
            "text/plain": [
              "array([18, 21,  1])"
            ]
          },
          "metadata": {},
          "execution_count": 162
        }
      ]
    },
    {
      "cell_type": "code",
      "source": [
        "plt.scatter(X[:,0],X[:,1])\n",
        "for i in range(len(random_centroids)):\n",
        "  index = random_centroids[i]\n",
        "  plt.plot(X[index,0], X[index,1], marker='X',color='red')\n",
        "plt.show()"
      ],
      "metadata": {
        "colab": {
          "base_uri": "https://localhost:8080/",
          "height": 429
        },
        "id": "u4klpafZ5fbA",
        "outputId": "7d620835-e911-4999-b797-d24a1c923574"
      },
      "execution_count": 163,
      "outputs": [
        {
          "output_type": "display_data",
          "data": {
            "text/plain": [
              "<Figure size 640x480 with 1 Axes>"
            ],
            "image/png": "[encoded data removed]"
          },
          "metadata": {}
        }
      ]
    },
    {
      "cell_type": "code",
      "source": [
        "def euclidean(point, data):\n",
        "    return np.sqrt(np.sum((point - data)**2))"
      ],
      "metadata": {
        "id": "Iw7SHZq77B37"
      },
      "execution_count": 168,
      "outputs": []
    },
    {
      "cell_type": "code",
      "source": [
        "euclidean_hist = np.zeros(n_samples)\n",
        "print(euclidean_hist)\n",
        "\n",
        "for i in range(n_samples):\n",
        "  data = np.array((X[i,0], X[i,1]))\n",
        "  print(\"DATA\", data)\n",
        "  for j in range(n_centroids):\n",
        "    j_centroid = random_centroids[j]\n",
        "    point = np.array((X[j_centroid,0], X[j_centroid,1]))\n",
        "    dist = euclidean(data,point)\n",
        "    print(dist)\n",
        "    if(j == 0):\n",
        "      euclidean_hist[j] = 10\n",
        "    elif()\n",
        "    # if(dist > euclidean_hist[j]):\n",
        "    #   print(\"TRUE value is greater\")\n",
        "    #   euclidean_hist[j] = j\n",
        "    # print(\"Data:\",data,\" Point: \", point, \" Euclidean Distance: \", dist)\n",
        "    print()\n",
        "\n",
        "print(euclidean_hist)"
      ],
      "metadata": {
        "colab": {
          "base_uri": "https://localhost:8080/"
        },
        "id": "kun-3ohJ8BZS",
        "outputId": "1494d76e-e87d-4266-bd49-7a5b55dd304a"
      },
      "execution_count": 177,
      "outputs": [
        {
          "output_type": "stream",
          "name": "stdout",
          "text": [
            "[0. 0. 0. 0. 0. 0. 0. 0. 0. 0. 0. 0. 0. 0. 0. 0. 0. 0. 0. 0. 0. 0. 0. 0.\n",
            " 0.]\n",
            "DATA [ 5.17292843 -3.08483491]\n",
            "1.989688449382346\n",
            "\n",
            "11.806803982484691\n",
            "\n",
            "1.75007769214935\n",
            "\n",
            "DATA [ 6.72451517 -3.89437214]\n",
            "2.2686683121862785\n",
            "\n",
            "13.545154335043197\n",
            "\n",
            "0.0\n",
            "\n",
            "DATA [-5.91070986  2.09205542]\n",
            "12.831178582392875\n",
            "\n",
            "2.0616232029157695\n",
            "\n",
            "13.981638906089707\n",
            "\n",
            "DATA [-1.50131409e-03  9.60939224e+00]\n",
            "15.39613794602818\n",
            "\n",
            "7.5053288513684215\n",
            "\n",
            "15.086117796303943\n",
            "\n",
            "DATA [0.6682292  8.99959501]\n",
            "14.615942400787404\n",
            "\n",
            "7.478980920463562\n",
            "\n",
            "14.245455018068007\n",
            "\n",
            "DATA [0.88411964 9.75137075]\n",
            "15.282888055176167\n",
            "\n",
            "8.17727467949965\n",
            "\n",
            "14.843062987143508\n",
            "\n",
            "DATA [ 6.03807103 -2.38364839]\n",
            "2.939557128361213\n",
            "\n",
            "12.166614722987902\n",
            "\n",
            "1.659364880647095\n",
            "\n",
            "DATA [-0.97618985 10.71151035]\n",
            "16.755967250313827\n",
            "\n",
            "7.926537053015552\n",
            "\n",
            "16.511591722041523\n",
            "\n",
            "DATA [ 2.80296487 -4.20512263]\n",
            "2.1256524043841454\n",
            "\n",
            "10.737240101070816\n",
            "\n",
            "3.933843235904985\n",
            "\n",
            "DATA [-5.99993669  3.17245314]\n",
            "13.531865792082867\n",
            "\n",
            "1.5317885258632882\n",
            "\n",
            "14.555126059652933\n",
            "\n",
            "DATA [-5.06695534  3.85598017]\n",
            "13.250812743855688\n",
            "\n",
            "0.5748550496858739\n",
            "\n",
            "14.110518691070807\n",
            "\n",
            "DATA [0.14411715 9.98462335]\n",
            "15.709976752587659\n",
            "\n",
            "7.893049037349458\n",
            "\n",
            "15.359952928541958\n",
            "\n",
            "DATA [-5.15847007  4.13606135]\n",
            "13.507337683755578\n",
            "\n",
            "0.8002580363565148\n",
            "\n",
            "14.342008237427256\n",
            "\n",
            "DATA [-5.70019028  3.91458306]\n",
            "13.765080768730392\n",
            "\n",
            "1.1962281367482104\n",
            "\n",
            "14.674913524498361\n",
            "\n",
            "DATA [ 5.91539068 -4.37462201]\n",
            "1.3278435285335592\n",
            "\n",
            "13.166555678104412\n",
            "\n",
            "0.9409157129465868\n",
            "\n",
            "DATA [-1.49211009  8.00048345]\n",
            "14.454726115094171\n",
            "\n",
            "5.326938457204699\n",
            "\n",
            "14.456850281937147\n",
            "\n",
            "DATA [ 0.78769405 10.06812893]\n",
            "15.61375137206071\n",
            "\n",
            "8.355206968072725\n",
            "\n",
            "15.172253661036217\n",
            "\n",
            "DATA [ 5.55030149 -5.30459265]\n",
            "0.8348251708268893\n",
            "\n",
            "13.476357703698264\n",
            "\n",
            "1.8350748367536007\n",
            "\n",
            "DATA [ 4.76140718 -5.03150139]\n",
            "0.0\n",
            "\n",
            "12.708716534208577\n",
            "\n",
            "2.2686683121862785\n",
            "\n",
            "DATA [-5.56567048  4.6603866 ]\n",
            "14.162670149739748\n",
            "\n",
            "1.454833228179769\n",
            "\n",
            "14.974396826345105\n",
            "\n",
            "DATA [-0.02159044  7.80179239]\n",
            "13.695637824343985\n",
            "\n",
            "6.148193172791474\n",
            "\n",
            "13.50222964947812\n",
            "\n",
            "DATA [-4.53820676  3.63040697]\n",
            "12.708716534208577\n",
            "\n",
            "0.0\n",
            "\n",
            "13.545154335043197\n",
            "\n",
            "DATA [-5.65041666  3.67900413]\n",
            "13.5749394881875\n",
            "\n",
            "1.1132710992972763\n",
            "\n",
            "14.50844464063028\n",
            "\n",
            "DATA [-0.69749232  7.9293102 ]\n",
            "14.063506708096805\n",
            "\n",
            "5.764690482921044\n",
            "\n",
            "13.960145390722168\n",
            "\n",
            "DATA [ 5.48282883 -5.57533789]\n",
            "0.903441941734729\n",
            "\n",
            "13.60760423076189\n",
            "\n",
            "2.0898399040131688\n",
            "\n",
            "[10.  0.  0.  0.  0.  0.  0.  0.  0.  0.  0.  0.  0.  0.  0.  0.  0.  0.\n",
            "  0.  0.  0.  0.  0.  0.  0.]\n"
          ]
        }
      ]
    },
    {
      "cell_type": "code",
      "source": [],
      "metadata": {
        "id": "tRrIJJoT8D6b"
      },
      "execution_count": null,
      "outputs": []
    }
  ]
}