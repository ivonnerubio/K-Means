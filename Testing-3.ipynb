{
  "nbformat": 4,
  "nbformat_minor": 0,
  "metadata": {
    "colab": {
      "provenance": []
    },
    "kernelspec": {
      "name": "python3",
      "display_name": "Python 3"
    },
    "language_info": {
      "name": "python"
    }
  },
  "cells": [
    {
      "cell_type": "code",
      "execution_count": 1,
      "metadata": {
        "id": "a0cmau3WAEVF"
      },
      "outputs": [],
      "source": [
        "import numpy as np\n",
        "import pandas as pd\n",
        "from sklearn.datasets import make_blobs\n",
        "import matplotlib.pyplot as plt\n",
        "import random as random"
      ]
    },
    {
      "cell_type": "code",
      "source": [
        "def euclidean(point, data):\n",
        "    return np.sqrt(np.sum((point - data)**2))"
      ],
      "metadata": {
        "id": "T0qpReYV-tad"
      },
      "execution_count": 2,
      "outputs": []
    },
    {
      "cell_type": "code",
      "source": [
        "class kMeans:\n",
        "  def __init__(self, n_samples,n_centroids):\n",
        "    self.n_samples = n_samples\n",
        "    self.n_centroids = n_centroids\n",
        "\n",
        "  def plot(self,X):\n",
        "    plot = plt.scatter(X[:,0],X[:,1])\n",
        "    return plot\n",
        "\n",
        "  def defineInitialCentroids(self):\n",
        "    initial_centroids = np.random.randint(0,self.n_samples,self.n_centroids)\n",
        "    return initial_centroids\n",
        "\n",
        "  def plot_centroids(self,X,centroids):\n",
        "    centroidPlot = plt.scatter(X[:,0],X[:,1])\n",
        "    for i in range(len(centroids)):\n",
        "      index = centroids[i]\n",
        "      plt.plot(X[index,0], X[index,1], marker='X',color='red')\n",
        "    plt.show()\n",
        "\n",
        "\n",
        "  def assign_to_centroid(self, X, centroids):\n",
        "    collection_points_per_cluster = [[] for _ in range(self.n_centroids)]\n",
        "    assign_centroid = np.zeros(self.n_samples)\n",
        "    # print(assign_centroid)\n",
        "    j_hist = np.zeros(shape=(self.n_samples,self.n_centroids))\n",
        "    # Assign to centroid\n",
        "    for i in range(self.n_samples):\n",
        "      data = np.array((X[i,0], X[i,1]))\n",
        "      for j in range(self.n_centroids):\n",
        "        j_centroid = centroids[j]\n",
        "        point = np.array((X[j_centroid,0], X[j_centroid,1]))\n",
        "        dist = euclidean(data,point)\n",
        "        j_hist[i,j] = dist\n",
        "      assign_centroid[i] = j_hist[i].argmin()\n",
        "      collection_points_per_cluster[j_hist[i].argmin()].append(data)\n",
        "\n",
        "    return assign_centroid,j_hist, collection_points_per_cluster\n",
        "\n",
        "  def plotPointsWithCentroid(self, X, centroids, assign_centroid,j_hist,collection_points_per_cluster):\n",
        "    collection_points_per_cluster = np.array([np.array(sublist) for sublist in collection_points_per_cluster], dtype=object)\n",
        "    plot = plt\n",
        "    for i in range(self.n_centroids):\n",
        "      index = centroids[i]\n",
        "      plot.plot(X[index,0], X[index,1], marker='X',color='red')\n",
        "\n",
        "    for i in range(self.n_samples):\n",
        "      x = X[i,0]\n",
        "      y = X[i,1]\n",
        "      if(assign_centroid[i] == 0):\n",
        "        plot.scatter(x,y, color='black', label='0')\n",
        "      elif(assign_centroid[i] == 1):\n",
        "        plot.scatter(x,y, color='yellow', label='1')\n",
        "      elif(assign_centroid[i] == 2):\n",
        "        plot.scatter(x,y, color='blue', label='2')\n",
        "\n",
        "    return plot\n",
        "\n",
        "  def find_cluster_mean(self,X,collection_points_per_cluster):\n",
        "    cluster_means = np.zeros(shape=(self.n_centroids, 2))\n",
        "\n",
        "    for i in range(self.n_centroids):\n",
        "      x_sum = 0\n",
        "      y_sum = 0\n",
        "      n = 0\n",
        "      points = collection_points_per_cluster[i]\n",
        "      for j in range(len(points)):\n",
        "        x_y = collection_points_per_cluster[i][j]\n",
        "        x_sum += x_y[0]\n",
        "        y_sum += x_y[1]\n",
        "        n += 1\n",
        "      x_mean = x_sum / n\n",
        "      y_mean = y_sum / n\n",
        "      cluster_means[i,0] = x_mean\n",
        "      cluster_means[i,1] = y_mean\n",
        "    return cluster_means\n",
        "\n",
        "\n",
        "  def plot_cluster_mean(self,X,cluster_mean):\n",
        "    plot = plt\n",
        "    plot.scatter(cluster_mean[:,0], cluster_mean[:,1], marker='x', color='red')\n",
        "    plot.scatter(X[:,0], X[:,1])\n",
        "    return plot\n",
        "\n",
        "\n",
        "  def find_closets_centroid(self,X):\n",
        "    euclidean_hist = np.zeros(shape=(3,self.n_samples))\n",
        "    new_centroids = np.zeros(shape=(self.n_centroids,2))\n",
        "    new_centroid_index = np.zeros(3)\n",
        "    for i in range(len(cluster_mean)):\n",
        "      point = cluster_mean[i]\n",
        "      for j in range(self.n_samples):\n",
        "        data = np.array((X[j,0],X[j,1]))\n",
        "        euclidean_hist[i,j] = euclidean(data,point)\n",
        "      new_index = euclidean_hist[i].argmin()\n",
        "      new_centroid_index[i] = new_index\n",
        "      new_centroid_index = new_centroid_index.astype(int)\n",
        "\n",
        "      new_centroids[i] = np.array((X[new_index,0], X[new_index,1]))\n",
        "    return new_centroids,new_centroid_index\n",
        "\n",
        "\n",
        "  def find_closets_centroid(self,X, cluster_mean):\n",
        "    euclidean_hist = np.zeros(shape=(self.n_centroids,self.n_samples))\n",
        "    new_centroids = np.zeros(shape=(self.n_centroids,2))\n",
        "    new_centroid_index = np.zeros(3)\n",
        "    for i in range(len(cluster_mean)):\n",
        "      point = cluster_mean[i]\n",
        "      for j in range(self.n_samples):\n",
        "        data = np.array((X[j,0],X[j,1]))\n",
        "        euclidean_hist[i,j] = euclidean(data,point)\n",
        "      new_index = euclidean_hist[i].argmin()\n",
        "      new_centroid_index[i] = new_index\n",
        "      new_centroid_index = new_centroid_index.astype(int)\n",
        "      new_centroids[i] = np.array((X[new_index,0], X[new_index,1]))\n",
        "    return new_centroids,new_centroid_index"
      ],
      "metadata": {
        "id": "1NVOz7GTAIX2"
      },
      "execution_count": 3,
      "outputs": []
    },
    {
      "cell_type": "code",
      "source": [
        "test1 = kMeans(25,3)"
      ],
      "metadata": {
        "id": "xQW9-H3iv2nx"
      },
      "execution_count": 4,
      "outputs": []
    },
    {
      "cell_type": "code",
      "source": [
        "test1.plot(X)"
      ],
      "metadata": {
        "id": "WgSuwdpMv_GF",
        "colab": {
          "base_uri": "https://localhost:8080/",
          "height": 169
        },
        "outputId": "d52ffb44-11e7-4ba0-d943-8febeabff623"
      },
      "execution_count": 5,
      "outputs": [
        {
          "output_type": "error",
          "ename": "NameError",
          "evalue": "name 'X' is not defined",
          "traceback": [
            "\u001b[0;31m---------------------------------------------------------------------------\u001b[0m",
            "\u001b[0;31mNameError\u001b[0m                                 Traceback (most recent call last)",
            "\u001b[0;32m<ipython-input-5-89edf2a34e7a>\u001b[0m in \u001b[0;36m<cell line: 1>\u001b[0;34m()\u001b[0m\n\u001b[0;32m----> 1\u001b[0;31m \u001b[0mtest1\u001b[0m\u001b[0;34m.\u001b[0m\u001b[0mplot\u001b[0m\u001b[0;34m(\u001b[0m\u001b[0mX\u001b[0m\u001b[0;34m)\u001b[0m\u001b[0;34m\u001b[0m\u001b[0;34m\u001b[0m\u001b[0m\n\u001b[0m",
            "\u001b[0;31mNameError\u001b[0m: name 'X' is not defined"
          ]
        }
      ]
    },
    {
      "cell_type": "code",
      "source": [
        "intial_centroids = test1.defineInitialCentroids()\n",
        "intial_centroids"
      ],
      "metadata": {
        "id": "kTglYom_xjd0"
      },
      "execution_count": null,
      "outputs": []
    },
    {
      "cell_type": "code",
      "source": [
        "test1.plot_centroids(X,intial_centroids)"
      ],
      "metadata": {
        "id": "a_RBCdfOyG3A"
      },
      "execution_count": null,
      "outputs": []
    },
    {
      "cell_type": "code",
      "source": [
        "assign_centroid,j_hist,collection_points_per_cluster  = test1.assign_to_centroid(X, intial_centroids)\n",
        "\n",
        "test1.plotPointsWithCentroid(X,intial_centroids, assign_centroid,j_hist,collection_points_per_cluster)"
      ],
      "metadata": {
        "id": "NucyALlP0X9l"
      },
      "execution_count": null,
      "outputs": []
    },
    {
      "cell_type": "code",
      "source": [
        "cluster_mean = test1.find_cluster_mean(X,collection_points_per_cluster)"
      ],
      "metadata": {
        "id": "TSKTWqcXGXuw"
      },
      "execution_count": null,
      "outputs": []
    },
    {
      "cell_type": "code",
      "source": [
        "test1.plot_cluster_mean(X,cluster_mean)"
      ],
      "metadata": {
        "id": "LCGF9BzvPVc9"
      },
      "execution_count": null,
      "outputs": []
    },
    {
      "cell_type": "code",
      "source": [
        "new_centroids, new_centroid_index  = test1.find_closets_centroid(X, cluster_mean)"
      ],
      "metadata": {
        "id": "BcjylappR7Bt"
      },
      "execution_count": null,
      "outputs": []
    },
    {
      "cell_type": "code",
      "source": [
        "assign_centroid,j_hist, collection_points_per_cluster = test1.assign_to_centroid(X,new_centroid_index)"
      ],
      "metadata": {
        "id": "r5t0JtaNSYUO"
      },
      "execution_count": null,
      "outputs": []
    },
    {
      "cell_type": "code",
      "source": [
        "test1.plotPointsWithCentroid(X,new_centroid_index, assign_centroid,j_hist,collection_points_per_cluster)"
      ],
      "metadata": {
        "colab": {
          "base_uri": "https://localhost:8080/",
          "height": 169
        },
        "id": "zjHVIizJfd8D",
        "outputId": "48afc6f0-a01c-425b-a80f-1f0ac3426807"
      },
      "execution_count": 6,
      "outputs": [
        {
          "output_type": "error",
          "ename": "NameError",
          "evalue": "name 'X' is not defined",
          "traceback": [
            "\u001b[0;31m---------------------------------------------------------------------------\u001b[0m",
            "\u001b[0;31mNameError\u001b[0m                                 Traceback (most recent call last)",
            "\u001b[0;32m<ipython-input-6-c5e312fbd093>\u001b[0m in \u001b[0;36m<cell line: 1>\u001b[0;34m()\u001b[0m\n\u001b[0;32m----> 1\u001b[0;31m \u001b[0mtest1\u001b[0m\u001b[0;34m.\u001b[0m\u001b[0mplotPointsWithCentroid\u001b[0m\u001b[0;34m(\u001b[0m\u001b[0mX\u001b[0m\u001b[0;34m,\u001b[0m\u001b[0mnew_centroid_index\u001b[0m\u001b[0;34m,\u001b[0m \u001b[0massign_centroid\u001b[0m\u001b[0;34m,\u001b[0m\u001b[0mj_hist\u001b[0m\u001b[0;34m,\u001b[0m\u001b[0mcollection_points_per_cluster\u001b[0m\u001b[0;34m)\u001b[0m\u001b[0;34m\u001b[0m\u001b[0;34m\u001b[0m\u001b[0m\n\u001b[0m",
            "\u001b[0;31mNameError\u001b[0m: name 'X' is not defined"
          ]
        }
      ]
    },
    {
      "cell_type": "code",
      "source": [],
      "metadata": {
        "id": "yrjbRLDSB8Yv"
      },
      "execution_count": 6,
      "outputs": []
    },
    {
      "cell_type": "code",
      "source": [],
      "metadata": {
        "id": "LbC7R5gzB8Wp"
      },
      "execution_count": 6,
      "outputs": []
    },
    {
      "cell_type": "code",
      "source": [],
      "metadata": {
        "id": "XlHImxFJB8UC"
      },
      "execution_count": 6,
      "outputs": []
    },
    {
      "cell_type": "code",
      "source": [
        "class kMeans:\n",
        "  def __init__(self, n_clusters,max_iter=300):\n",
        "    self.n_clusters = n_clusters\n",
        "    self.max_iter = max_iter\n",
        "\n",
        "  def fit(self,X_train):\n",
        "    # Initialize the centroids by randomly choosing the points\n",
        "    self.centroids = np.random.randint(0,len(X_train),self.n_clusters)\n",
        "    self.n_samples = len(X_train)\n",
        "    # Use Eucledian distance to then train the data\n",
        "    collection_points_per_cluster = [[] for _ in range(self.n_clusters)]\n",
        "    assign_centroid = np.zeros(self.n_samples)\n",
        "    j_hist = np.zeros(shape=(self.n_samples,self.n_clusters))\n",
        "    # Assign to centroid\n",
        "    for i in range(len(X_train)):\n",
        "      data = np.array((X_train[i,0], X_train[i,1]))\n",
        "      for j in range(self.n_clusters):\n",
        "        j_centroid = self.centroids[j]\n",
        "        point = np.array((X_train[j_centroid,0], X_train[j_centroid,1]))\n",
        "        dist = euclidean(data,point)\n",
        "        j_hist[i,j] = dist\n",
        "      assign_centroid[i] = j_hist[i].argmin()\n",
        "      collection_points_per_cluster[j_hist[i].argmin()].append(data)\n",
        "\n",
        "    iteration = 0\n",
        "    # While iterations\n",
        "    while(iteration <= self.max_iter):\n",
        "      cluster_means = np.zeros(shape=(self.n_clusters, 2))\n",
        "\n",
        "      for i in range(self.n_clusters):\n",
        "        x_sum = 0\n",
        "        y_sum = 0\n",
        "        n = 0\n",
        "        points = collection_points_per_cluster[i]\n",
        "        for j in range(len(points)):\n",
        "          x_y = collection_points_per_cluster[i][j]\n",
        "          x_sum += x_y[0]\n",
        "          y_sum += x_y[1]\n",
        "          n += 1\n",
        "        x_mean = x_sum / n\n",
        "        y_mean = y_sum / n\n",
        "        cluster_mean[i,0] = x_mean\n",
        "        cluster_mean[i,1] = y_mean\n",
        "\n",
        "      euclidean_hist = np.zeros(shape=(3,self.n_samples))\n",
        "      new_centroids = np.zeros(shape=(self.n_clusters,2))\n",
        "      new_centroid_index = np.zeros(3)\n",
        "      for i in range(len(cluster_mean)):\n",
        "        point = cluster_mean[i]\n",
        "        for j in range(self.n_samples):\n",
        "          data = np.array((X[j,0],X[j,1]))\n",
        "          euclidean_hist[i,j] = euclidean(data,point)\n",
        "        new_index = euclidean_hist[i].argmin()\n",
        "        new_centroid_index[i] = new_index\n",
        "        new_centroid_index = new_centroid_index.astype(int)\n",
        "\n",
        "        new_centroids[i] = np.array((X[new_index,0], X[new_index,1]))\n",
        "\n",
        "      euclidean_hist = np.zeros(shape=(self.n_clusters,self.n_samples))\n",
        "      new_centroids = np.zeros(shape=(self.n_clusters,2))\n",
        "      new_centroid_index = np.zeros(3)\n",
        "      for i in range(len(cluster_mean)):\n",
        "        point = cluster_mean[i]\n",
        "        for j in range(self.n_samples):\n",
        "          data = np.array((X[j,0],X[j,1]))\n",
        "          euclidean_hist[i,j] = euclidean(data,point)\n",
        "        new_index = euclidean_hist[i].argmin()\n",
        "        new_centroid_index[i] = new_index\n",
        "        new_centroid_index = new_centroid_index.astype(int)\n",
        "        new_centroids[i] = np.array((X[new_index,0], X[new_index,1]))\n",
        "      iteration +=1"
      ],
      "metadata": {
        "id": "8CNm_ElhB8Ri"
      },
      "execution_count": 53,
      "outputs": []
    },
    {
      "cell_type": "code",
      "source": [
        "n_samples = 25\n",
        "n_centroids = 3\n",
        "X,y = make_blobs(n_samples = n_samples,n_features = 2,centers = n_centroids,random_state = 24)\n",
        "\n",
        "test = kMeans(3,200)\n",
        "test.fit(X)\n",
        "\n"
      ],
      "metadata": {
        "colab": {
          "base_uri": "https://localhost:8080/",
          "height": 334
        },
        "id": "XBTJGfPT5HLt",
        "outputId": "51f4559d-ca27-4031-d84b-364794a07784"
      },
      "execution_count": 54,
      "outputs": [
        {
          "output_type": "error",
          "ename": "NameError",
          "evalue": "name 'cluster_mean' is not defined",
          "traceback": [
            "\u001b[0;31m---------------------------------------------------------------------------\u001b[0m",
            "\u001b[0;31mNameError\u001b[0m                                 Traceback (most recent call last)",
            "\u001b[0;32m<ipython-input-54-20098cc296e3>\u001b[0m in \u001b[0;36m<cell line: 6>\u001b[0;34m()\u001b[0m\n\u001b[1;32m      4\u001b[0m \u001b[0;34m\u001b[0m\u001b[0m\n\u001b[1;32m      5\u001b[0m \u001b[0mtest\u001b[0m \u001b[0;34m=\u001b[0m \u001b[0mkMeans\u001b[0m\u001b[0;34m(\u001b[0m\u001b[0;36m3\u001b[0m\u001b[0;34m,\u001b[0m\u001b[0;36m200\u001b[0m\u001b[0;34m)\u001b[0m\u001b[0;34m\u001b[0m\u001b[0;34m\u001b[0m\u001b[0m\n\u001b[0;32m----> 6\u001b[0;31m \u001b[0mtest\u001b[0m\u001b[0;34m.\u001b[0m\u001b[0mfit\u001b[0m\u001b[0;34m(\u001b[0m\u001b[0mX\u001b[0m\u001b[0;34m)\u001b[0m\u001b[0;34m\u001b[0m\u001b[0;34m\u001b[0m\u001b[0m\n\u001b[0m\u001b[1;32m      7\u001b[0m \u001b[0;34m\u001b[0m\u001b[0m\n",
            "\u001b[0;32m<ipython-input-53-dc97aaaef922>\u001b[0m in \u001b[0;36mfit\u001b[0;34m(self, X_train)\u001b[0m\n\u001b[1;32m     40\u001b[0m         \u001b[0mx_mean\u001b[0m \u001b[0;34m=\u001b[0m \u001b[0mx_sum\u001b[0m \u001b[0;34m/\u001b[0m \u001b[0mn\u001b[0m\u001b[0;34m\u001b[0m\u001b[0;34m\u001b[0m\u001b[0m\n\u001b[1;32m     41\u001b[0m         \u001b[0my_mean\u001b[0m \u001b[0;34m=\u001b[0m \u001b[0my_sum\u001b[0m \u001b[0;34m/\u001b[0m \u001b[0mn\u001b[0m\u001b[0;34m\u001b[0m\u001b[0;34m\u001b[0m\u001b[0m\n\u001b[0;32m---> 42\u001b[0;31m         \u001b[0mcluster_mean\u001b[0m\u001b[0;34m[\u001b[0m\u001b[0mi\u001b[0m\u001b[0;34m,\u001b[0m\u001b[0;36m0\u001b[0m\u001b[0;34m]\u001b[0m \u001b[0;34m=\u001b[0m \u001b[0mx_mean\u001b[0m\u001b[0;34m\u001b[0m\u001b[0;34m\u001b[0m\u001b[0m\n\u001b[0m\u001b[1;32m     43\u001b[0m         \u001b[0mcluster_mean\u001b[0m\u001b[0;34m[\u001b[0m\u001b[0mi\u001b[0m\u001b[0;34m,\u001b[0m\u001b[0;36m1\u001b[0m\u001b[0;34m]\u001b[0m \u001b[0;34m=\u001b[0m \u001b[0my_mean\u001b[0m\u001b[0;34m\u001b[0m\u001b[0;34m\u001b[0m\u001b[0m\n\u001b[1;32m     44\u001b[0m \u001b[0;34m\u001b[0m\u001b[0m\n",
            "\u001b[0;31mNameError\u001b[0m: name 'cluster_mean' is not defined"
          ]
        }
      ]
    },
    {
      "cell_type": "code",
      "source": [],
      "metadata": {
        "id": "BOBNVJmUYsM3"
      },
      "execution_count": 51,
      "outputs": []
    }
  ]
}